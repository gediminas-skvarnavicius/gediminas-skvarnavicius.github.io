{
 "cells": [
  {
   "attachments": {},
   "cell_type": "markdown",
   "metadata": {},
   "source": [
    "---\n",
    "title: \"Analysis of iTunes Podcast Reviews\"\n",
    "format:\n",
    "  html:\n",
    "    toc: true\n",
    "    code-fold: true\n",
    "    code-summary: \"Show the code\"\n",
    "    number-depth: 4\n",
    "    number-sections: true\n",
    "---"
   ]
  },
  {
   "attachments": {},
   "cell_type": "markdown",
   "metadata": {},
   "source": [
    "## Introduction"
   ]
  },
  {
   "attachments": {},
   "cell_type": "markdown",
   "metadata": {},
   "source": [
    "This is an analysis of the iTunes podcast reviews dataset from Kaggle, which can be found [here](https://www.kaggle.com/datasets/thoughtvector/podcastreviews/versions/28). The goal of this analysis is to provide an overview of the dataset and investigate two premises:\n",
    "\n",
    "A) There is a tendency for certain reviewers to consistently post negative reviews.</br>\n",
    "B) Some topics exhibit higher polarization, resulting in more extreme ratings compared to more neutral topics.\n",
    "\n",
    "Examining these premises could provide valuable insights for developing the podcast suggestion algorithm for iTunes users.\n"
   ]
  },
  {
   "attachments": {},
   "cell_type": "markdown",
   "metadata": {},
   "source": [
    "#### Biases and limitations\n",
    "The author declares no biases. The data analysis was performed by not differentiating the reviews by into different batches that they were scraped in."
   ]
  },
  {
   "attachments": {},
   "cell_type": "markdown",
   "metadata": {},
   "source": [
    "### Imports and Options"
   ]
  },
  {
   "attachments": {},
   "cell_type": "markdown",
   "metadata": {},
   "source": [
    "#### Imports"
   ]
  },
  {
   "cell_type": "code",
   "execution_count": 1,
   "metadata": {},
   "outputs": [],
   "source": [
    "from aux_functions import *\n",
    "\n",
    "# from sqlalchemy_schemadisplay import create_schema_graph\n",
    "# from sqlalchemy import create_engine, MetaData\n",
    "from IPython.display import Image\n",
    "import os\n",
    "import duckdb\n",
    "from tabulate import tabulate\n",
    "import pandas as pd\n",
    "import matplotlib.pyplot as plt\n",
    "import matplotlib\n",
    "import plotly.express as px\n",
    "import seaborn as sns\n",
    "from screeninfo import get_monitors\n",
    "from collections import Counter\n",
    "import numpy as np\n",
    "from numerize.numerize import numerize\n",
    "import sys\n",
    "import random\n",
    "from IPython.display import Markdown\n",
    "import scipy.stats as stats\n",
    "import plotly.io as pio\n"
   ]
  },
  {
   "attachments": {},
   "cell_type": "markdown",
   "metadata": {},
   "source": [
    "#### Options"
   ]
  },
  {
   "cell_type": "code",
   "execution_count": 2,
   "metadata": {},
   "outputs": [],
   "source": [
    "base_fig_width = 8\n",
    "base_fig_height = 5\n",
    "dpi = get_monitors()[0].width / (get_monitors()[0].width_mm / 25.4)\n",
    "pio.renderers.default = \"plotly_mimetype+notebook_connected\"\n"
   ]
  },
  {
   "attachments": {},
   "cell_type": "markdown",
   "metadata": {},
   "source": [
    "#### Fetching the data"
   ]
  },
  {
   "attachments": {},
   "cell_type": "markdown",
   "metadata": {},
   "source": [
    "##### Download and unzip commands:"
   ]
  },
  {
   "attachments": {},
   "cell_type": "markdown",
   "metadata": {},
   "source": [
    "To run the analysis the sqlite version of the data set is needed, that can be found [here](https://www.kaggle.com/datasets/thoughtvector/podcastreviews/download?datasetVersionNumber=28)."
   ]
  },
  {
   "cell_type": "code",
   "execution_count": 4,
   "metadata": {},
   "outputs": [],
   "source": [
    "# import zipfile\n",
    "\n",
    "# with zipfile.ZipFile('archive.zip', 'r') as zip_ref:\n",
    "#     zip_ref.extractall()\n"
   ]
  },
  {
   "attachments": {},
   "cell_type": "markdown",
   "metadata": {},
   "source": [
    "##### Create a connection using duckdb:"
   ]
  },
  {
   "cell_type": "code",
   "execution_count": 5,
   "metadata": {},
   "outputs": [
    {
     "data": {
      "text/plain": [
       "<duckdb.DuckDBPyConnection at 0x7f5c609a9bb0>"
      ]
     },
     "execution_count": 5,
     "metadata": {},
     "output_type": "execute_result"
    }
   ],
   "source": [
    "con = duckdb.connect()\n",
    "con.execute(\"INSTALL sqlite\")\n",
    "con.execute(\"ATTACH DATABASE 'database.sqlite'\")\n"
   ]
  },
  {
   "attachments": {},
   "cell_type": "markdown",
   "metadata": {},
   "source": [
    "## Exploratory Data Analysis"
   ]
  },
  {
   "attachments": {},
   "cell_type": "markdown",
   "metadata": {},
   "source": [
    "### Database Overview"
   ]
  },
  {
   "attachments": {},
   "cell_type": "markdown",
   "metadata": {},
   "source": [
    "##### What are the tables and their columns?"
   ]
  },
  {
   "cell_type": "code",
   "execution_count": 6,
   "metadata": {},
   "outputs": [
    {
     "data": {
      "text/markdown": [
       "| table_name   | column_names                                         |\n",
       "|:-------------|:-----------------------------------------------------|\n",
       "| runs         | run_at,max_rowid,reviews_added                       |\n",
       "| podcasts     | podcast_id,itunes_id,slug,itunes_url,title           |\n",
       "| categories   | podcast_id,category                                  |\n",
       "| reviews      | podcast_id,title,content,rating,author_id,created_at |"
      ],
      "text/plain": [
       "<IPython.core.display.Markdown object>"
      ]
     },
     "execution_count": 6,
     "metadata": {},
     "output_type": "execute_result"
    }
   ],
   "source": [
    "# | label: tbl-database\n",
    "# | tbl-cap: Tables and columns of the dataset.\n",
    "Markdown(\n",
    "    tabulate(\n",
    "        con.query(\n",
    "            \"\"\"--sql\n",
    "SELECT table_name, GROUP_CONCAT(column_name) AS column_names FROM information_schema.columns GROUP BY table_name\n",
    "\"\"\"\n",
    "        ).to_df(),\n",
    "        showindex=False,\n",
    "        headers=\"keys\",\n",
    "        tablefmt=\"pipe\",\n",
    "    )\n",
    ")"
   ]
  },
  {
   "attachments": {},
   "cell_type": "markdown",
   "metadata": {},
   "source": [
    "#### What is the number of rows in each table?"
   ]
  },
  {
   "cell_type": "code",
   "execution_count": 7,
   "metadata": {},
   "outputs": [
    {
     "name": "stdout",
     "output_type": "stream",
     "text": [
      "runs: 16\n",
      "podcasts: 110.02K\n",
      "categories: 212.37K\n",
      "reviews: 2.07M\n"
     ]
    }
   ],
   "source": [
    "table_names = (\n",
    "    con.query(\n",
    "        \"\"\"--sql\n",
    "SELECT table_name\n",
    "FROM information_schema.tables\n",
    "\"\"\"\n",
    "    )\n",
    "    .to_df()[\"table_name\"]\n",
    "    .to_list()\n",
    ")\n",
    "\n",
    "for table in table_names:\n",
    "    print(\n",
    "        table\n",
    "        + \": \"\n",
    "        + str(\n",
    "            numerize(\n",
    "                con.query(\n",
    "                    \"\"\"--sql\n",
    "        SELECT COUNT(*)\n",
    "        FROM database.{}\n",
    "        \"\"\".format(\n",
    "                        table\n",
    "                    )\n",
    "                ).fetchone()[0]\n",
    "            )\n",
    "        )\n",
    "    )"
   ]
  },
  {
   "attachments": {},
   "cell_type": "markdown",
   "metadata": {},
   "source": [
    "The category table has more entries than the podcast table suggesting that podcasts can be tagged in more than one category."
   ]
  },
  {
   "attachments": {},
   "cell_type": "markdown",
   "metadata": {},
   "source": [
    "#### Are all podcasts accounted for in the categories table?"
   ]
  },
  {
   "cell_type": "code",
   "execution_count": 8,
   "metadata": {},
   "outputs": [
    {
     "data": {
      "text/markdown": [
       "Yes"
      ],
      "text/plain": [
       "<IPython.core.display.Markdown object>"
      ]
     },
     "metadata": {},
     "output_type": "display_data"
    }
   ],
   "source": [
    "if not con.query(\n",
    "    \"\"\"--sql\n",
    "SELECT p.podcast_id\n",
    "FROM database.podcasts p\n",
    "LEFT JOIN database.categories c ON p.podcast_id = c.podcast_id\n",
    "WHERE c.podcast_id IS NULL\n",
    "\"\"\"\n",
    ").fetchall():\n",
    "    # Query checks if there are any podcasts left out in the join, returns [] not.\n",
    "    display(Markdown(\"Yes\"))"
   ]
  },
  {
   "attachments": {},
   "cell_type": "markdown",
   "metadata": {},
   "source": [
    "All podcasts have at least one category assigned."
   ]
  },
  {
   "attachments": {},
   "cell_type": "markdown",
   "metadata": {},
   "source": [
    "#### What is the number of different categories?"
   ]
  },
  {
   "cell_type": "code",
   "execution_count": 9,
   "metadata": {},
   "outputs": [
    {
     "data": {
      "text/plain": [
       "110"
      ]
     },
     "execution_count": 9,
     "metadata": {},
     "output_type": "execute_result"
    }
   ],
   "source": [
    "con.query(\n",
    "    \"\"\"--sql\n",
    "SELECT COUNT(DISTINCT category) FROM database.categories \n",
    "\"\"\"\n",
    ").fetchone()[0]\n"
   ]
  },
  {
   "attachments": {},
   "cell_type": "markdown",
   "metadata": {},
   "source": [
    "### Podcast characteristics"
   ]
  },
  {
   "attachments": {},
   "cell_type": "markdown",
   "metadata": {},
   "source": [
    "#### Review number and rating distribution amongst podcasts"
   ]
  },
  {
   "attachments": {},
   "cell_type": "markdown",
   "metadata": {},
   "source": [
    "##### Extracting the number of reviews and average rating of each podcast:"
   ]
  },
  {
   "cell_type": "code",
   "execution_count": 10,
   "metadata": {},
   "outputs": [],
   "source": [
    "review_stats_pod_agg = con.query(\n",
    "    \"\"\"--sql\n",
    "SELECT r.podcast_id,\n",
    "    p.title,\n",
    "    COUNT(r.*) AS num_reviews,\n",
    "    AVG(r.rating) AS average_rating\n",
    "FROM database.reviews as r\n",
    "    LEFT JOIN database.podcasts as p ON r.podcast_id = p.podcast_id\n",
    "GROUP BY r.podcast_id,\n",
    "    p.title\n",
    "\"\"\"\n",
    ").to_df()\n"
   ]
  },
  {
   "attachments": {},
   "cell_type": "markdown",
   "metadata": {},
   "source": [
    "##### Podcast review histograms:"
   ]
  },
  {
   "cell_type": "code",
   "execution_count": 11,
   "metadata": {},
   "outputs": [
    {
     "data": {
      "image/png": "[encoded data removed]",
      "text/plain": [
       "<Figure size 800x400 with 2 Axes>"
      ]
     },
     "metadata": {},
     "output_type": "display_data"
    }
   ],
   "source": [
    "# | label: fig-reviews-pod\n",
    "# | fig-cap: Histogram of the number of reviews each podcast has in a dataset (left). The frequency is in the y-axis is in a logarithmic scale. The inset on the left chart shows frequencies of podcasts that had less than a thousand reviews. Right the histogram of ratings with frequencies in log-scale.\n",
    "sns.set()\n",
    "# Figure setup\n",
    "fig_reviews_pod, (ax_reviews_pod, ax_ratings_pod) = plt.subplots(\n",
    "    1, 2, figsize=(base_fig_width, base_fig_height * 0.8), sharey=True\n",
    ")\n",
    "# Podcasts Histogram Inset\n",
    "review_stats_pod_agg.hist(\"num_reviews\", ax=ax_reviews_pod, bins=10)\n",
    "ax_reviews_pod.set_yscale(\"log\")\n",
    "axis_titles(ax_reviews_pod, \" Number of Reviews\", \"Number of Podcasts\")\n",
    "\n",
    "# Podcasts Histogram Inset\n",
    "ax_reviews_pod_inset = ax_reviews_pod.inset_axes([0.5, 0.5, 0.45, 0.43])\n",
    "review_stats_pod_agg.loc[review_stats_pod_agg[\"num_reviews\"] < 1000].hist(\n",
    "    \"num_reviews\", ax=ax_reviews_pod_inset\n",
    ")\n",
    "axis_titles(ax_reviews_pod_inset, \"Number of Reviews\", \"Number of Podcasts\")\n",
    "ax_reviews_pod_inset.set_yscale(\"log\")\n",
    "\n",
    "# Rating Hist\n",
    "review_stats_pod_agg.hist(\"average_rating\", ax=ax_ratings_pod, bins=10)\n",
    "axis_titles(ax_ratings_pod, \"Average Rating\")\n",
    "ax_ratings_pod.set_yscale(\"log\")\n",
    "\n",
    "# Layout\n",
    "fig_reviews_pod.tight_layout(w_pad=1)\n",
    "plt.show()"
   ]
  },
  {
   "attachments": {},
   "cell_type": "markdown",
   "metadata": {},
   "source": [
    "There is a negative exponential distribution of the number of reviews that the podcasts are getting, with the majority having only several reviews as seen in @fig-reviews-pod. Yet there are podcasts with more than 30 thousand reviews. An exponential trend can also be seen in the ratings that the podcasts are getting. The majority of ratings are \"5\", with lower number progressively being rarer. The \"1\" rating is an exception, being higher than the neighbors. "
   ]
  },
  {
   "attachments": {},
   "cell_type": "markdown",
   "metadata": {},
   "source": [
    "#### The category distribution of podcasts."
   ]
  },
  {
   "attachments": {},
   "cell_type": "markdown",
   "metadata": {},
   "source": [
    "##### Extracting tagged categories for each podcast:"
   ]
  },
  {
   "cell_type": "code",
   "execution_count": 12,
   "metadata": {},
   "outputs": [],
   "source": [
    "podcasts_categories = con.query(\n",
    "    \"\"\"--sql\n",
    "    SELECT p.podcast_id, GROUP_CONCAT(c.category) AS category\n",
    "    FROM database.podcasts p\n",
    "    LEFT JOIN database.categories c ON p.podcast_id = c.podcast_id\n",
    "    GROUP BY p.podcast_id\n",
    "\"\"\"\n",
    ").to_df()\n",
    "podcasts_categories[\"category\"] = podcasts_categories[\"category\"].str.split(\",\")\n",
    "podcasts_categories[\"num_categories\"] = podcasts_categories[\"category\"].apply(len)\n"
   ]
  },
  {
   "attachments": {},
   "cell_type": "markdown",
   "metadata": {},
   "source": [
    "##### Is there any missing data in the extraction?"
   ]
  },
  {
   "cell_type": "code",
   "execution_count": 13,
   "metadata": {},
   "outputs": [
    {
     "data": {
      "text/plain": [
       "podcast_id        False\n",
       "category          False\n",
       "num_categories    False\n",
       "dtype: bool"
      ]
     },
     "execution_count": 13,
     "metadata": {},
     "output_type": "execute_result"
    }
   ],
   "source": [
    "podcasts_categories.isna().any()\n"
   ]
  },
  {
   "attachments": {},
   "cell_type": "markdown",
   "metadata": {},
   "source": [
    "##### How many different categories are the podcasts tagged in?"
   ]
  },
  {
   "cell_type": "code",
   "execution_count": 14,
   "metadata": {},
   "outputs": [
    {
     "data": {
      "text/html": [
       "<div>\n",
       "<style scoped>\n",
       "    .dataframe tbody tr th:only-of-type {\n",
       "        vertical-align: middle;\n",
       "    }\n",
       "\n",
       "    .dataframe tbody tr th {\n",
       "        vertical-align: top;\n",
       "    }\n",
       "\n",
       "    .dataframe thead th {\n",
       "        text-align: right;\n",
       "    }\n",
       "</style>\n",
       "<table border=\"1\" class=\"dataframe\">\n",
       "  <thead>\n",
       "    <tr style=\"text-align: right;\">\n",
       "      <th>Number of Categories</th>\n",
       "      <th>1</th>\n",
       "      <th>2</th>\n",
       "      <th>3</th>\n",
       "      <th>4</th>\n",
       "      <th>5</th>\n",
       "      <th>6</th>\n",
       "      <th>7</th>\n",
       "      <th>8</th>\n",
       "    </tr>\n",
       "  </thead>\n",
       "  <tbody>\n",
       "    <tr>\n",
       "      <th>Frequency</th>\n",
       "      <td>44455</td>\n",
       "      <td>39443</td>\n",
       "      <td>16491</td>\n",
       "      <td>8809</td>\n",
       "      <td>658</td>\n",
       "      <td>147</td>\n",
       "      <td>18</td>\n",
       "      <td>3</td>\n",
       "    </tr>\n",
       "  </tbody>\n",
       "</table>\n",
       "</div>"
      ],
      "text/plain": [
       " Number of Categories      1      2      3     4    5    6   7  8\n",
       "Frequency              44455  39443  16491  8809  658  147  18  3"
      ]
     },
     "execution_count": 14,
     "metadata": {},
     "output_type": "execute_result"
    }
   ],
   "source": [
    "col_frequency_table(podcasts_categories, \"num_categories\", \" Number of Categories\")\n"
   ]
  },
  {
   "attachments": {},
   "cell_type": "markdown",
   "metadata": {},
   "source": [
    "##### Sample categories:"
   ]
  },
  {
   "cell_type": "code",
   "execution_count": 15,
   "metadata": {},
   "outputs": [
    {
     "data": {
      "text/html": [
       "<div>\n",
       "<style scoped>\n",
       "    .dataframe tbody tr th:only-of-type {\n",
       "        vertical-align: middle;\n",
       "    }\n",
       "\n",
       "    .dataframe tbody tr th {\n",
       "        vertical-align: top;\n",
       "    }\n",
       "\n",
       "    .dataframe thead th {\n",
       "        text-align: right;\n",
       "    }\n",
       "</style>\n",
       "<table border=\"1\" class=\"dataframe\">\n",
       "  <thead>\n",
       "    <tr style=\"text-align: right;\">\n",
       "      <th></th>\n",
       "      <th>category</th>\n",
       "    </tr>\n",
       "  </thead>\n",
       "  <tbody>\n",
       "    <tr>\n",
       "      <th>0</th>\n",
       "      <td>[comedy]</td>\n",
       "    </tr>\n",
       "    <tr>\n",
       "      <th>1</th>\n",
       "      <td>[comedy-stand-up, comedy]</td>\n",
       "    </tr>\n",
       "    <tr>\n",
       "      <th>2</th>\n",
       "      <td>[society-culture]</td>\n",
       "    </tr>\n",
       "    <tr>\n",
       "      <th>3</th>\n",
       "      <td>[spirituality, religion-spirituality, arts-per...</td>\n",
       "    </tr>\n",
       "    <tr>\n",
       "      <th>4</th>\n",
       "      <td>[society-culture, arts]</td>\n",
       "    </tr>\n",
       "    <tr>\n",
       "      <th>5</th>\n",
       "      <td>[tv-film-film-reviews, tv-film]</td>\n",
       "    </tr>\n",
       "    <tr>\n",
       "      <th>6</th>\n",
       "      <td>[tv-film, society-culture-personal-journals, s...</td>\n",
       "    </tr>\n",
       "    <tr>\n",
       "      <th>7</th>\n",
       "      <td>[business-careers, business]</td>\n",
       "    </tr>\n",
       "  </tbody>\n",
       "</table>\n",
       "</div>"
      ],
      "text/plain": [
       "                                            category\n",
       "0                                           [comedy]\n",
       "1                          [comedy-stand-up, comedy]\n",
       "2                                  [society-culture]\n",
       "3  [spirituality, religion-spirituality, arts-per...\n",
       "4                            [society-culture, arts]\n",
       "5                    [tv-film-film-reviews, tv-film]\n",
       "6  [tv-film, society-culture-personal-journals, s...\n",
       "7                       [business-careers, business]"
      ]
     },
     "execution_count": 15,
     "metadata": {},
     "output_type": "execute_result"
    }
   ],
   "source": [
    "podcasts_categories[\"category\"].to_frame().head(8)"
   ]
  },
  {
   "attachments": {},
   "cell_type": "markdown",
   "metadata": {},
   "source": [
    "The podcasts can be tagged in up to 8 categories, furthermore tags seem to have categories and sub categories. This might make the surface overview of the data complicated, therefore the categories will be aggregated by taking only the main category i.e. society-culture=culture. And merging some other similar categories like different religions into a single religion and spirituality category."
   ]
  },
  {
   "attachments": {},
   "cell_type": "markdown",
   "metadata": {},
   "source": [
    "##### Aggregating the categories:"
   ]
  },
  {
   "cell_type": "code",
   "execution_count": 16,
   "metadata": {},
   "outputs": [],
   "source": [
    "podcasts_categories[\"categories_agg\"] = podcasts_categories[\"category\"].apply(\n",
    "    transform_category_list\n",
    ")\n"
   ]
  },
  {
   "attachments": {},
   "cell_type": "markdown",
   "metadata": {},
   "source": [
    "##### Sample categories after aggregation:"
   ]
  },
  {
   "cell_type": "code",
   "execution_count": 17,
   "metadata": {},
   "outputs": [
    {
     "data": {
      "text/html": [
       "<div>\n",
       "<style scoped>\n",
       "    .dataframe tbody tr th:only-of-type {\n",
       "        vertical-align: middle;\n",
       "    }\n",
       "\n",
       "    .dataframe tbody tr th {\n",
       "        vertical-align: top;\n",
       "    }\n",
       "\n",
       "    .dataframe thead th {\n",
       "        text-align: right;\n",
       "    }\n",
       "</style>\n",
       "<table border=\"1\" class=\"dataframe\">\n",
       "  <thead>\n",
       "    <tr style=\"text-align: right;\">\n",
       "      <th></th>\n",
       "      <th>categories_agg</th>\n",
       "    </tr>\n",
       "  </thead>\n",
       "  <tbody>\n",
       "    <tr>\n",
       "      <th>0</th>\n",
       "      <td>{comedy}</td>\n",
       "    </tr>\n",
       "    <tr>\n",
       "      <th>1</th>\n",
       "      <td>{comedy}</td>\n",
       "    </tr>\n",
       "    <tr>\n",
       "      <th>2</th>\n",
       "      <td>{society}</td>\n",
       "    </tr>\n",
       "    <tr>\n",
       "      <th>3</th>\n",
       "      <td>{spirituality-religion, arts}</td>\n",
       "    </tr>\n",
       "    <tr>\n",
       "      <th>4</th>\n",
       "      <td>{society, arts}</td>\n",
       "    </tr>\n",
       "    <tr>\n",
       "      <th>5</th>\n",
       "      <td>{tv}</td>\n",
       "    </tr>\n",
       "    <tr>\n",
       "      <th>6</th>\n",
       "      <td>{society, tv}</td>\n",
       "    </tr>\n",
       "    <tr>\n",
       "      <th>7</th>\n",
       "      <td>{business}</td>\n",
       "    </tr>\n",
       "  </tbody>\n",
       "</table>\n",
       "</div>"
      ],
      "text/plain": [
       "                  categories_agg\n",
       "0                       {comedy}\n",
       "1                       {comedy}\n",
       "2                      {society}\n",
       "3  {spirituality-religion, arts}\n",
       "4                {society, arts}\n",
       "5                           {tv}\n",
       "6                  {society, tv}\n",
       "7                     {business}"
      ]
     },
     "execution_count": 17,
     "metadata": {},
     "output_type": "execute_result"
    }
   ],
   "source": [
    "podcasts_categories[\"categories_agg\"].head(8).to_frame()"
   ]
  },
  {
   "attachments": {},
   "cell_type": "markdown",
   "metadata": {},
   "source": [
    "##### How many aggregated categories are the podcasts tagged in?"
   ]
  },
  {
   "cell_type": "code",
   "execution_count": 18,
   "metadata": {},
   "outputs": [
    {
     "data": {
      "text/html": [
       "<div>\n",
       "<style scoped>\n",
       "    .dataframe tbody tr th:only-of-type {\n",
       "        vertical-align: middle;\n",
       "    }\n",
       "\n",
       "    .dataframe tbody tr th {\n",
       "        vertical-align: top;\n",
       "    }\n",
       "\n",
       "    .dataframe thead th {\n",
       "        text-align: right;\n",
       "    }\n",
       "</style>\n",
       "<table border=\"1\" class=\"dataframe\">\n",
       "  <thead>\n",
       "    <tr style=\"text-align: right;\">\n",
       "      <th>Number of Aggregated Categories</th>\n",
       "      <th>1</th>\n",
       "      <th>2</th>\n",
       "      <th>3</th>\n",
       "      <th>4</th>\n",
       "      <th>5</th>\n",
       "    </tr>\n",
       "  </thead>\n",
       "  <tbody>\n",
       "    <tr>\n",
       "      <th>Frequency</th>\n",
       "      <td>80562</td>\n",
       "      <td>28128</td>\n",
       "      <td>1254</td>\n",
       "      <td>77</td>\n",
       "      <td>3</td>\n",
       "    </tr>\n",
       "  </tbody>\n",
       "</table>\n",
       "</div>"
      ],
      "text/plain": [
       " Number of Aggregated Categories      1      2     3   4  5\n",
       "Frequency                         80562  28128  1254  77  3"
      ]
     },
     "execution_count": 18,
     "metadata": {},
     "output_type": "execute_result"
    }
   ],
   "source": [
    "col_frequency_table(\n",
    "    podcasts_categories[\"categories_agg\"].apply(len).to_frame(),\n",
    "    \"categories_agg\",\n",
    "    \" Number of Aggregated Categories\",\n",
    ")"
   ]
  },
  {
   "attachments": {},
   "cell_type": "markdown",
   "metadata": {},
   "source": [
    "#### How many times were podcasts tagged in each category?"
   ]
  },
  {
   "attachments": {},
   "cell_type": "markdown",
   "metadata": {},
   "source": [
    "##### Calculating the number of tags for each aggregated category:"
   ]
  },
  {
   "cell_type": "code",
   "execution_count": 19,
   "metadata": {},
   "outputs": [],
   "source": [
    "cat_counter = Counter()\n",
    "for cat in podcasts_categories[\"categories_agg\"]:\n",
    "    cat_counter.update(cat)\n",
    "category_frequency = pd.DataFrame.from_dict(\n",
    "    dict(cat_counter), orient=\"index\", columns=[\"Frequency\"]\n",
    ").sort_values(\"Frequency\", ascending=False)\n"
   ]
  },
  {
   "attachments": {},
   "cell_type": "markdown",
   "metadata": {},
   "source": [
    "##### Visualizing the results in a bar chart:"
   ]
  },
  {
   "cell_type": "code",
   "execution_count": 20,
   "metadata": {},
   "outputs": [
    {
     "data": {
      "image/png": "[encoded data removed]",
      "text/plain": [
       "<Figure size 800x500 with 1 Axes>"
      ]
     },
     "metadata": {},
     "output_type": "display_data"
    }
   ],
   "source": [
    "# | label: fig-cats-freq\n",
    "# | fig-cap: The number of times each aggregated category was tagged in a description of a podcast.\n",
    "\n",
    "fig_cats_freq, ax_cats_freq = plt.subplots(figsize=(base_fig_width, base_fig_height))\n",
    "sns.barplot(\n",
    "    x=category_frequency[\"Frequency\"],\n",
    "    y=category_frequency.index.str.capitalize(),\n",
    "    ax=ax_cats_freq,\n",
    "    palette=\"deep\",\n",
    ")\n",
    "plt.show()"
   ]
  },
  {
   "attachments": {},
   "cell_type": "markdown",
   "metadata": {},
   "source": [
    "#### Category ratings"
   ]
  },
  {
   "attachments": {},
   "cell_type": "markdown",
   "metadata": {},
   "source": [
    "##### What is the average rating and number of reviews for podcasts in each category?"
   ]
  },
  {
   "attachments": {},
   "cell_type": "markdown",
   "metadata": {},
   "source": [
    "##### Fetching the number of ratings and the average rating of podcasts tagged in each aggregated category:"
   ]
  },
  {
   "cell_type": "code",
   "execution_count": 21,
   "metadata": {},
   "outputs": [],
   "source": [
    "category_agg_names = category_frequency.index.to_list()\n",
    "category_ratings = {}\n",
    "for category in category_agg_names:\n",
    "    id_list = \", \".join(\n",
    "        f\"'{id}'\"\n",
    "        for id in podcasts_categories[\n",
    "            podcasts_categories[\"categories_agg\"].apply(lambda x: category in x)\n",
    "        ][\"podcast_id\"]\n",
    "    )\n",
    "    category_ratings[category] = con.query(\n",
    "        f\"\"\"--sql\n",
    "    SELECT COUNT(*) as num_ratings,\n",
    "    AVG(rating) as avg_rating,\n",
    "    stddev_pop(rating) as rating_std\n",
    "    FROM database.reviews\n",
    "    WHERE podcast_id IN ({ id_list })\n",
    "        \"\"\"\n",
    "    ).fetchone()\n"
   ]
  },
  {
   "attachments": {},
   "cell_type": "markdown",
   "metadata": {},
   "source": [
    "##### Preparing the data for the bubble plot:"
   ]
  },
  {
   "cell_type": "code",
   "execution_count": 22,
   "metadata": {},
   "outputs": [],
   "source": [
    "category_ratings = pd.DataFrame.from_dict(category_ratings).T.rename(\n",
    "    columns={0: \"rating_count\", 1: \"average_rating\", 2: \"standard_deviation\"}\n",
    ")\n",
    "category_stats = category_frequency.join(category_ratings)\n",
    "category_stats[\"ratings_per_pod\"] = (\n",
    "    category_stats[\"rating_count\"] / category_stats[\"Frequency\"]\n",
    ")\n",
    "cat_colors = sns.color_palette(\"deep\", len(category_stats))"
   ]
  },
  {
   "attachments": {},
   "cell_type": "markdown",
   "metadata": {},
   "source": [
    "##### Bubble plot:"
   ]
  },
  {
   "cell_type": "code",
   "execution_count": 23,
   "metadata": {},
   "outputs": [
    {
     "data": {
      "text/html": [
       "        <script type=\"text/javascript\">\n",
       "        window.PlotlyConfig = {MathJaxConfig: 'local'};\n",
       "        if (window.MathJax && window.MathJax.Hub && window.MathJax.Hub.Config) {window.MathJax.Hub.Config({SVG: {font: \"STIX-Web\"}});}\n",
       "        if (typeof require !== 'undefined') {\n",
       "        require.undef(\"plotly\");\n",
       "        requirejs.config({\n",
       "            paths: {\n",
       "                'plotly': ['https://cdn.plot.ly/plotly-2.12.1.min']\n",
       "            }\n",
       "        });\n",
       "        require(['plotly'], function(Plotly) {\n",
       "            window._Plotly = Plotly;\n",
       "        });\n",
       "        }\n",
       "        </script>\n",
       "        "
      ]
     },
     "metadata": {},
     "output_type": "display_data"
    },
    {
     "data": {
      "application/vnd.plotly.v1+json": {
       "config": {
        "plotlyServerURL": "https://plot.ly"
       },
       "data": [
        {
         "hovertemplate": "<b>%{hovertext}</b><br><br>ratings_per_pod=%{x}<br>average_rating=%{y}<br>Frequency=%{marker.size}<extra></extra>",
         "hovertext": [
          "society",
          "education",
          "business",
          "comedy",
          "spirituality-religion",
          "arts",
          "sports",
          "health",
          "tv",
          "leisure",
          "news",
          "music",
          "kids",
          "technology",
          "science",
          "history",
          "fiction",
          "true-crime",
          "government"
         ],
         "legendgroup": "",
         "marker": {
          "color": "#636efa",
          "size": [
           19441,
           13005,
           12931,
           12803,
           12771,
           9675,
           9280,
           8731,
           8285,
           7011,
           6606,
           6161,
           3321,
           3235,
           2186,
           1663,
           1594,
           1264,
           940
          ],
          "sizemode": "area",
          "sizeref": 48.6025,
          "symbol": "circle"
         },
         "mode": "markers",
         "name": "",
         "orientation": "v",
         "showlegend": false,
         "type": "scatter",
         "x": [
          23.413970474769815,
          17.49373317954633,
          17.56971618590983,
          27.819885964227133,
          11.977840419700884,
          15.075762273901809,
          20.817780172413794,
          21.608864963921658,
          21.430295715147857,
          14.51447725003566,
          28.8283378746594,
          10.007304009089433,
          32.36886479975911,
          14.784544049459042,
          21.769441903019214,
          35.60072158749249,
          22.362609786700126,
          128.5996835443038,
          16.47553191489362
         ],
         "xaxis": "x",
         "y": [
          4.5537301923807805,
          4.816158694715744,
          4.845673741384015,
          4.627031989623166,
          4.832789650190562,
          4.730978074565673,
          4.625667092846901,
          4.790323692007611,
          4.525592790763166,
          4.758001591965487,
          4.311704473850032,
          4.7713080853134375,
          4.748197624119743,
          4.529647904992891,
          4.531583592502312,
          4.522414026079319,
          4.595831229310441,
          4.1638572746847125,
          4.43010266675276
         ],
         "yaxis": "y"
        }
       ],
       "layout": {
        "height": 511.1949685534591,
        "legend": {
         "itemsizing": "constant",
         "tracegroupgap": 0
        },
        "margin": {
         "b": 30,
         "l": 65,
         "r": 10,
         "t": 25
        },
        "template": {
         "data": {
          "bar": [
           {
            "error_x": {
             "color": "#2a3f5f"
            },
            "error_y": {
             "color": "#2a3f5f"
            },
            "marker": {
             "line": {
              "color": "#E5ECF6",
              "width": 0.5
             },
             "pattern": {
              "fillmode": "overlay",
              "size": 10,
              "solidity": 0.2
             }
            },
            "type": "bar"
           }
          ],
          "barpolar": [
           {
            "marker": {
             "line": {
              "color": "#E5ECF6",
              "width": 0.5
             },
             "pattern": {
              "fillmode": "overlay",
              "size": 10,
              "solidity": 0.2
             }
            },
            "type": "barpolar"
           }
          ],
          "carpet": [
           {
            "aaxis": {
             "endlinecolor": "#2a3f5f",
             "gridcolor": "white",
             "linecolor": "white",
             "minorgridcolor": "white",
             "startlinecolor": "#2a3f5f"
            },
            "baxis": {
             "endlinecolor": "#2a3f5f",
             "gridcolor": "white",
             "linecolor": "white",
             "minorgridcolor": "white",
             "startlinecolor": "#2a3f5f"
            },
            "type": "carpet"
           }
          ],
          "choropleth": [
           {
            "colorbar": {
             "outlinewidth": 0,
             "ticks": ""
            },
            "type": "choropleth"
           }
          ],
          "contour": [
           {
            "colorbar": {
             "outlinewidth": 0,
             "ticks": ""
            },
            "colorscale": [
             [
              0,
              "#0d0887"
             ],
             [
              0.1111111111111111,
              "#46039f"
             ],
             [
              0.2222222222222222,
              "#7201a8"
             ],
             [
              0.3333333333333333,
              "#9c179e"
             ],
             [
              0.4444444444444444,
              "#bd3786"
             ],
             [
              0.5555555555555556,
              "#d8576b"
             ],
             [
              0.6666666666666666,
              "#ed7953"
             ],
             [
              0.7777777777777778,
              "#fb9f3a"
             ],
             [
              0.8888888888888888,
              "#fdca26"
             ],
             [
              1,
              "#f0f921"
             ]
            ],
            "type": "contour"
           }
          ],
          "contourcarpet": [
           {
            "colorbar": {
             "outlinewidth": 0,
             "ticks": ""
            },
            "type": "contourcarpet"
           }
          ],
          "heatmap": [
           {
            "colorbar": {
             "outlinewidth": 0,
             "ticks": ""
            },
            "colorscale": [
             [
              0,
              "#0d0887"
             ],
             [
              0.1111111111111111,
              "#46039f"
             ],
             [
              0.2222222222222222,
              "#7201a8"
             ],
             [
              0.3333333333333333,
              "#9c179e"
             ],
             [
              0.4444444444444444,
              "#bd3786"
             ],
             [
              0.5555555555555556,
              "#d8576b"
             ],
             [
              0.6666666666666666,
              "#ed7953"
             ],
             [
              0.7777777777777778,
              "#fb9f3a"
             ],
             [
              0.8888888888888888,
              "#fdca26"
             ],
             [
              1,
              "#f0f921"
             ]
            ],
            "type": "heatmap"
           }
          ],
          "heatmapgl": [
           {
            "colorbar": {
             "outlinewidth": 0,
             "ticks": ""
            },
            "colorscale": [
             [
              0,
              "#0d0887"
             ],
             [
              0.1111111111111111,
              "#46039f"
             ],
             [
              0.2222222222222222,
              "#7201a8"
             ],
             [
              0.3333333333333333,
              "#9c179e"
             ],
             [
              0.4444444444444444,
              "#bd3786"
             ],
             [
              0.5555555555555556,
              "#d8576b"
             ],
             [
              0.6666666666666666,
              "#ed7953"
             ],
             [
              0.7777777777777778,
              "#fb9f3a"
             ],
             [
              0.8888888888888888,
              "#fdca26"
             ],
             [
              1,
              "#f0f921"
             ]
            ],
            "type": "heatmapgl"
           }
          ],
          "histogram": [
           {
            "marker": {
             "pattern": {
              "fillmode": "overlay",
              "size": 10,
              "solidity": 0.2
             }
            },
            "type": "histogram"
           }
          ],
          "histogram2d": [
           {
            "colorbar": {
             "outlinewidth": 0,
             "ticks": ""
            },
            "colorscale": [
             [
              0,
              "#0d0887"
             ],
             [
              0.1111111111111111,
              "#46039f"
             ],
             [
              0.2222222222222222,
              "#7201a8"
             ],
             [
              0.3333333333333333,
              "#9c179e"
             ],
             [
              0.4444444444444444,
              "#bd3786"
             ],
             [
              0.5555555555555556,
              "#d8576b"
             ],
             [
              0.6666666666666666,
              "#ed7953"
             ],
             [
              0.7777777777777778,
              "#fb9f3a"
             ],
             [
              0.8888888888888888,
              "#fdca26"
             ],
             [
              1,
              "#f0f921"
             ]
            ],
            "type": "histogram2d"
           }
          ],
          "histogram2dcontour": [
           {
            "colorbar": {
             "outlinewidth": 0,
             "ticks": ""
            },
            "colorscale": [
             [
              0,
              "#0d0887"
             ],
             [
              0.1111111111111111,
              "#46039f"
             ],
             [
              0.2222222222222222,
              "#7201a8"
             ],
             [
              0.3333333333333333,
              "#9c179e"
             ],
             [
              0.4444444444444444,
              "#bd3786"
             ],
             [
              0.5555555555555556,
              "#d8576b"
             ],
             [
              0.6666666666666666,
              "#ed7953"
             ],
             [
              0.7777777777777778,
              "#fb9f3a"
             ],
             [
              0.8888888888888888,
              "#fdca26"
             ],
             [
              1,
              "#f0f921"
             ]
            ],
            "type": "histogram2dcontour"
           }
          ],
          "mesh3d": [
           {
            "colorbar": {
             "outlinewidth": 0,
             "ticks": ""
            },
            "type": "mesh3d"
           }
          ],
          "parcoords": [
           {
            "line": {
             "colorbar": {
              "outlinewidth": 0,
              "ticks": ""
             }
            },
            "type": "parcoords"
           }
          ],
          "pie": [
           {
            "automargin": true,
            "type": "pie"
           }
          ],
          "scatter": [
           {
            "fillpattern": {
             "fillmode": "overlay",
             "size": 10,
             "solidity": 0.2
            },
            "type": "scatter"
           }
          ],
          "scatter3d": [
           {
            "line": {
             "colorbar": {
              "outlinewidth": 0,
              "ticks": ""
             }
            },
            "marker": {
             "colorbar": {
              "outlinewidth": 0,
              "ticks": ""
             }
            },
            "type": "scatter3d"
           }
          ],
          "scattercarpet": [
           {
            "marker": {
             "colorbar": {
              "outlinewidth": 0,
              "ticks": ""
             }
            },
            "type": "scattercarpet"
           }
          ],
          "scattergeo": [
           {
            "marker": {
             "colorbar": {
              "outlinewidth": 0,
              "ticks": ""
             }
            },
            "type": "scattergeo"
           }
          ],
          "scattergl": [
           {
            "marker": {
             "colorbar": {
              "outlinewidth": 0,
              "ticks": ""
             }
            },
            "type": "scattergl"
           }
          ],
          "scattermapbox": [
           {
            "marker": {
             "colorbar": {
              "outlinewidth": 0,
              "ticks": ""
             }
            },
            "type": "scattermapbox"
           }
          ],
          "scatterpolar": [
           {
            "marker": {
             "colorbar": {
              "outlinewidth": 0,
              "ticks": ""
             }
            },
            "type": "scatterpolar"
           }
          ],
          "scatterpolargl": [
           {
            "marker": {
             "colorbar": {
              "outlinewidth": 0,
              "ticks": ""
             }
            },
            "type": "scatterpolargl"
           }
          ],
          "scatterternary": [
           {
            "marker": {
             "colorbar": {
              "outlinewidth": 0,
              "ticks": ""
             }
            },
            "type": "scatterternary"
           }
          ],
          "surface": [
           {
            "colorbar": {
             "outlinewidth": 0,
             "ticks": ""
            },
            "colorscale": [
             [
              0,
              "#0d0887"
             ],
             [
              0.1111111111111111,
              "#46039f"
             ],
             [
              0.2222222222222222,
              "#7201a8"
             ],
             [
              0.3333333333333333,
              "#9c179e"
             ],
             [
              0.4444444444444444,
              "#bd3786"
             ],
             [
              0.5555555555555556,
              "#d8576b"
             ],
             [
              0.6666666666666666,
              "#ed7953"
             ],
             [
              0.7777777777777778,
              "#fb9f3a"
             ],
             [
              0.8888888888888888,
              "#fdca26"
             ],
             [
              1,
              "#f0f921"
             ]
            ],
            "type": "surface"
           }
          ],
          "table": [
           {
            "cells": {
             "fill": {
              "color": "#EBF0F8"
             },
             "line": {
              "color": "white"
             }
            },
            "header": {
             "fill": {
              "color": "#C8D4E3"
             },
             "line": {
              "color": "white"
             }
            },
            "type": "table"
           }
          ]
         },
         "layout": {
          "annotationdefaults": {
           "arrowcolor": "#2a3f5f",
           "arrowhead": 0,
           "arrowwidth": 1
          },
          "autotypenumbers": "strict",
          "coloraxis": {
           "colorbar": {
            "outlinewidth": 0,
            "ticks": ""
           }
          },
          "colorscale": {
           "diverging": [
            [
             0,
             "#8e0152"
            ],
            [
             0.1,
             "#c51b7d"
            ],
            [
             0.2,
             "#de77ae"
            ],
            [
             0.3,
             "#f1b6da"
            ],
            [
             0.4,
             "#fde0ef"
            ],
            [
             0.5,
             "#f7f7f7"
            ],
            [
             0.6,
             "#e6f5d0"
            ],
            [
             0.7,
             "#b8e186"
            ],
            [
             0.8,
             "#7fbc41"
            ],
            [
             0.9,
             "#4d9221"
            ],
            [
             1,
             "#276419"
            ]
           ],
           "sequential": [
            [
             0,
             "#0d0887"
            ],
            [
             0.1111111111111111,
             "#46039f"
            ],
            [
             0.2222222222222222,
             "#7201a8"
            ],
            [
             0.3333333333333333,
             "#9c179e"
            ],
            [
             0.4444444444444444,
             "#bd3786"
            ],
            [
             0.5555555555555556,
             "#d8576b"
            ],
            [
             0.6666666666666666,
             "#ed7953"
            ],
            [
             0.7777777777777778,
             "#fb9f3a"
            ],
            [
             0.8888888888888888,
             "#fdca26"
            ],
            [
             1,
             "#f0f921"
            ]
           ],
           "sequentialminus": [
            [
             0,
             "#0d0887"
            ],
            [
             0.1111111111111111,
             "#46039f"
            ],
            [
             0.2222222222222222,
             "#7201a8"
            ],
            [
             0.3333333333333333,
             "#9c179e"
            ],
            [
             0.4444444444444444,
             "#bd3786"
            ],
            [
             0.5555555555555556,
             "#d8576b"
            ],
            [
             0.6666666666666666,
             "#ed7953"
            ],
            [
             0.7777777777777778,
             "#fb9f3a"
            ],
            [
             0.8888888888888888,
             "#fdca26"
            ],
            [
             1,
             "#f0f921"
            ]
           ]
          },
          "colorway": [
           "#636efa",
           "#EF553B",
           "#00cc96",
           "#ab63fa",
           "#FFA15A",
           "#19d3f3",
           "#FF6692",
           "#B6E880",
           "#FF97FF",
           "#FECB52"
          ],
          "font": {
           "color": "#2a3f5f"
          },
          "geo": {
           "bgcolor": "white",
           "lakecolor": "white",
           "landcolor": "#E5ECF6",
           "showlakes": true,
           "showland": true,
           "subunitcolor": "white"
          },
          "hoverlabel": {
           "align": "left"
          },
          "hovermode": "closest",
          "mapbox": {
           "style": "light"
          },
          "paper_bgcolor": "white",
          "plot_bgcolor": "#E5ECF6",
          "polar": {
           "angularaxis": {
            "gridcolor": "white",
            "linecolor": "white",
            "ticks": ""
           },
           "bgcolor": "#E5ECF6",
           "radialaxis": {
            "gridcolor": "white",
            "linecolor": "white",
            "ticks": ""
           }
          },
          "scene": {
           "xaxis": {
            "backgroundcolor": "#E5ECF6",
            "gridcolor": "white",
            "gridwidth": 2,
            "linecolor": "white",
            "showbackground": true,
            "ticks": "",
            "zerolinecolor": "white"
           },
           "yaxis": {
            "backgroundcolor": "#E5ECF6",
            "gridcolor": "white",
            "gridwidth": 2,
            "linecolor": "white",
            "showbackground": true,
            "ticks": "",
            "zerolinecolor": "white"
           },
           "zaxis": {
            "backgroundcolor": "#E5ECF6",
            "gridcolor": "white",
            "gridwidth": 2,
            "linecolor": "white",
            "showbackground": true,
            "ticks": "",
            "zerolinecolor": "white"
           }
          },
          "shapedefaults": {
           "line": {
            "color": "#2a3f5f"
           }
          },
          "ternary": {
           "aaxis": {
            "gridcolor": "white",
            "linecolor": "white",
            "ticks": ""
           },
           "baxis": {
            "gridcolor": "white",
            "linecolor": "white",
            "ticks": ""
           },
           "bgcolor": "#E5ECF6",
           "caxis": {
            "gridcolor": "white",
            "linecolor": "white",
            "ticks": ""
           }
          },
          "title": {
           "x": 0.05
          },
          "xaxis": {
           "automargin": true,
           "gridcolor": "white",
           "linecolor": "white",
           "ticks": "",
           "title": {
            "standoff": 15
           },
           "zerolinecolor": "white",
           "zerolinewidth": 2
          },
          "yaxis": {
           "automargin": true,
           "gridcolor": "white",
           "linecolor": "white",
           "ticks": "",
           "title": {
            "standoff": 15
           },
           "zerolinecolor": "white",
           "zerolinewidth": 2
          }
         }
        },
        "width": 817.9119496855345,
        "xaxis": {
         "anchor": "y",
         "domain": [
          0,
          1
         ],
         "title": {
          "text": "Reviews per Podcast"
         }
        },
        "yaxis": {
         "anchor": "x",
         "domain": [
          0,
          1
         ],
         "title": {
          "text": "Average Rating"
         }
        }
       }
      },
      "text/html": [
       "<div>                            <div id=\"50e351e3-1cce-49f0-a18e-ec890f8dca17\" class=\"plotly-graph-div\" style=\"height:511.1949685534591px; width:817.9119496855345px;\"></div>            <script type=\"text/javascript\">                require([\"plotly\"], function(Plotly) {                    window.PLOTLYENV=window.PLOTLYENV || {};                                    if (document.getElementById(\"50e351e3-1cce-49f0-a18e-ec890f8dca17\")) {                    Plotly.newPlot(                        \"50e351e3-1cce-49f0-a18e-ec890f8dca17\",                        [{\"hovertemplate\":\"<b>%{hovertext}</b><br><br>ratings_per_pod=%{x}<br>average_rating=%{y}<br>Frequency=%{marker.size}<extra></extra>\",\"hovertext\":[\"society\",\"education\",\"business\",\"comedy\",\"spirituality-religion\",\"arts\",\"sports\",\"health\",\"tv\",\"leisure\",\"news\",\"music\",\"kids\",\"technology\",\"science\",\"history\",\"fiction\",\"true-crime\",\"government\"],\"legendgroup\":\"\",\"marker\":{\"color\":\"#636efa\",\"size\":[19441,13005,12931,12803,12771,9675,9280,8731,8285,7011,6606,6161,3321,3235,2186,1663,1594,1264,940],\"sizemode\":\"area\",\"sizeref\":48.6025,\"symbol\":\"circle\"},\"mode\":\"markers\",\"name\":\"\",\"orientation\":\"v\",\"showlegend\":false,\"x\":[23.413970474769815,17.49373317954633,17.56971618590983,27.819885964227133,11.977840419700884,15.075762273901809,20.817780172413794,21.608864963921658,21.430295715147857,14.51447725003566,28.8283378746594,10.007304009089433,32.36886479975911,14.784544049459042,21.769441903019214,35.60072158749249,22.362609786700126,128.5996835443038,16.47553191489362],\"xaxis\":\"x\",\"y\":[4.5537301923807805,4.816158694715744,4.845673741384015,4.627031989623166,4.832789650190562,4.730978074565673,4.625667092846901,4.790323692007611,4.525592790763166,4.758001591965487,4.311704473850032,4.7713080853134375,4.748197624119743,4.529647904992891,4.531583592502312,4.522414026079319,4.595831229310441,4.1638572746847125,4.43010266675276],\"yaxis\":\"y\",\"type\":\"scatter\"}],                        {\"template\":{\"data\":{\"histogram2dcontour\":[{\"type\":\"histogram2dcontour\",\"colorbar\":{\"outlinewidth\":0,\"ticks\":\"\"},\"colorscale\":[[0.0,\"#0d0887\"],[0.1111111111111111,\"#46039f\"],[0.2222222222222222,\"#7201a8\"],[0.3333333333333333,\"#9c179e\"],[0.4444444444444444,\"#bd3786\"],[0.5555555555555556,\"#d8576b\"],[0.6666666666666666,\"#ed7953\"],[0.7777777777777778,\"#fb9f3a\"],[0.8888888888888888,\"#fdca26\"],[1.0,\"#f0f921\"]]}],\"choropleth\":[{\"type\":\"choropleth\",\"colorbar\":{\"outlinewidth\":0,\"ticks\":\"\"}}],\"histogram2d\":[{\"type\":\"histogram2d\",\"colorbar\":{\"outlinewidth\":0,\"ticks\":\"\"},\"colorscale\":[[0.0,\"#0d0887\"],[0.1111111111111111,\"#46039f\"],[0.2222222222222222,\"#7201a8\"],[0.3333333333333333,\"#9c179e\"],[0.4444444444444444,\"#bd3786\"],[0.5555555555555556,\"#d8576b\"],[0.6666666666666666,\"#ed7953\"],[0.7777777777777778,\"#fb9f3a\"],[0.8888888888888888,\"#fdca26\"],[1.0,\"#f0f921\"]]}],\"heatmap\":[{\"type\":\"heatmap\",\"colorbar\":{\"outlinewidth\":0,\"ticks\":\"\"},\"colorscale\":[[0.0,\"#0d0887\"],[0.1111111111111111,\"#46039f\"],[0.2222222222222222,\"#7201a8\"],[0.3333333333333333,\"#9c179e\"],[0.4444444444444444,\"#bd3786\"],[0.5555555555555556,\"#d8576b\"],[0.6666666666666666,\"#ed7953\"],[0.7777777777777778,\"#fb9f3a\"],[0.8888888888888888,\"#fdca26\"],[1.0,\"#f0f921\"]]}],\"heatmapgl\":[{\"type\":\"heatmapgl\",\"colorbar\":{\"outlinewidth\":0,\"ticks\":\"\"},\"colorscale\":[[0.0,\"#0d0887\"],[0.1111111111111111,\"#46039f\"],[0.2222222222222222,\"#7201a8\"],[0.3333333333333333,\"#9c179e\"],[0.4444444444444444,\"#bd3786\"],[0.5555555555555556,\"#d8576b\"],[0.6666666666666666,\"#ed7953\"],[0.7777777777777778,\"#fb9f3a\"],[0.8888888888888888,\"#fdca26\"],[1.0,\"#f0f921\"]]}],\"contourcarpet\":[{\"type\":\"contourcarpet\",\"colorbar\":{\"outlinewidth\":0,\"ticks\":\"\"}}],\"contour\":[{\"type\":\"contour\",\"colorbar\":{\"outlinewidth\":0,\"ticks\":\"\"},\"colorscale\":[[0.0,\"#0d0887\"],[0.1111111111111111,\"#46039f\"],[0.2222222222222222,\"#7201a8\"],[0.3333333333333333,\"#9c179e\"],[0.4444444444444444,\"#bd3786\"],[0.5555555555555556,\"#d8576b\"],[0.6666666666666666,\"#ed7953\"],[0.7777777777777778,\"#fb9f3a\"],[0.8888888888888888,\"#fdca26\"],[1.0,\"#f0f921\"]]}],\"surface\":[{\"type\":\"surface\",\"colorbar\":{\"outlinewidth\":0,\"ticks\":\"\"},\"colorscale\":[[0.0,\"#0d0887\"],[0.1111111111111111,\"#46039f\"],[0.2222222222222222,\"#7201a8\"],[0.3333333333333333,\"#9c179e\"],[0.4444444444444444,\"#bd3786\"],[0.5555555555555556,\"#d8576b\"],[0.6666666666666666,\"#ed7953\"],[0.7777777777777778,\"#fb9f3a\"],[0.8888888888888888,\"#fdca26\"],[1.0,\"#f0f921\"]]}],\"mesh3d\":[{\"type\":\"mesh3d\",\"colorbar\":{\"outlinewidth\":0,\"ticks\":\"\"}}],\"scatter\":[{\"fillpattern\":{\"fillmode\":\"overlay\",\"size\":10,\"solidity\":0.2},\"type\":\"scatter\"}],\"parcoords\":[{\"type\":\"parcoords\",\"line\":{\"colorbar\":{\"outlinewidth\":0,\"ticks\":\"\"}}}],\"scatterpolargl\":[{\"type\":\"scatterpolargl\",\"marker\":{\"colorbar\":{\"outlinewidth\":0,\"ticks\":\"\"}}}],\"bar\":[{\"error_x\":{\"color\":\"#2a3f5f\"},\"error_y\":{\"color\":\"#2a3f5f\"},\"marker\":{\"line\":{\"color\":\"#E5ECF6\",\"width\":0.5},\"pattern\":{\"fillmode\":\"overlay\",\"size\":10,\"solidity\":0.2}},\"type\":\"bar\"}],\"scattergeo\":[{\"type\":\"scattergeo\",\"marker\":{\"colorbar\":{\"outlinewidth\":0,\"ticks\":\"\"}}}],\"scatterpolar\":[{\"type\":\"scatterpolar\",\"marker\":{\"colorbar\":{\"outlinewidth\":0,\"ticks\":\"\"}}}],\"histogram\":[{\"marker\":{\"pattern\":{\"fillmode\":\"overlay\",\"size\":10,\"solidity\":0.2}},\"type\":\"histogram\"}],\"scattergl\":[{\"type\":\"scattergl\",\"marker\":{\"colorbar\":{\"outlinewidth\":0,\"ticks\":\"\"}}}],\"scatter3d\":[{\"type\":\"scatter3d\",\"line\":{\"colorbar\":{\"outlinewidth\":0,\"ticks\":\"\"}},\"marker\":{\"colorbar\":{\"outlinewidth\":0,\"ticks\":\"\"}}}],\"scattermapbox\":[{\"type\":\"scattermapbox\",\"marker\":{\"colorbar\":{\"outlinewidth\":0,\"ticks\":\"\"}}}],\"scatterternary\":[{\"type\":\"scatterternary\",\"marker\":{\"colorbar\":{\"outlinewidth\":0,\"ticks\":\"\"}}}],\"scattercarpet\":[{\"type\":\"scattercarpet\",\"marker\":{\"colorbar\":{\"outlinewidth\":0,\"ticks\":\"\"}}}],\"carpet\":[{\"aaxis\":{\"endlinecolor\":\"#2a3f5f\",\"gridcolor\":\"white\",\"linecolor\":\"white\",\"minorgridcolor\":\"white\",\"startlinecolor\":\"#2a3f5f\"},\"baxis\":{\"endlinecolor\":\"#2a3f5f\",\"gridcolor\":\"white\",\"linecolor\":\"white\",\"minorgridcolor\":\"white\",\"startlinecolor\":\"#2a3f5f\"},\"type\":\"carpet\"}],\"table\":[{\"cells\":{\"fill\":{\"color\":\"#EBF0F8\"},\"line\":{\"color\":\"white\"}},\"header\":{\"fill\":{\"color\":\"#C8D4E3\"},\"line\":{\"color\":\"white\"}},\"type\":\"table\"}],\"barpolar\":[{\"marker\":{\"line\":{\"color\":\"#E5ECF6\",\"width\":0.5},\"pattern\":{\"fillmode\":\"overlay\",\"size\":10,\"solidity\":0.2}},\"type\":\"barpolar\"}],\"pie\":[{\"automargin\":true,\"type\":\"pie\"}]},\"layout\":{\"autotypenumbers\":\"strict\",\"colorway\":[\"#636efa\",\"#EF553B\",\"#00cc96\",\"#ab63fa\",\"#FFA15A\",\"#19d3f3\",\"#FF6692\",\"#B6E880\",\"#FF97FF\",\"#FECB52\"],\"font\":{\"color\":\"#2a3f5f\"},\"hovermode\":\"closest\",\"hoverlabel\":{\"align\":\"left\"},\"paper_bgcolor\":\"white\",\"plot_bgcolor\":\"#E5ECF6\",\"polar\":{\"bgcolor\":\"#E5ECF6\",\"angularaxis\":{\"gridcolor\":\"white\",\"linecolor\":\"white\",\"ticks\":\"\"},\"radialaxis\":{\"gridcolor\":\"white\",\"linecolor\":\"white\",\"ticks\":\"\"}},\"ternary\":{\"bgcolor\":\"#E5ECF6\",\"aaxis\":{\"gridcolor\":\"white\",\"linecolor\":\"white\",\"ticks\":\"\"},\"baxis\":{\"gridcolor\":\"white\",\"linecolor\":\"white\",\"ticks\":\"\"},\"caxis\":{\"gridcolor\":\"white\",\"linecolor\":\"white\",\"ticks\":\"\"}},\"coloraxis\":{\"colorbar\":{\"outlinewidth\":0,\"ticks\":\"\"}},\"colorscale\":{\"sequential\":[[0.0,\"#0d0887\"],[0.1111111111111111,\"#46039f\"],[0.2222222222222222,\"#7201a8\"],[0.3333333333333333,\"#9c179e\"],[0.4444444444444444,\"#bd3786\"],[0.5555555555555556,\"#d8576b\"],[0.6666666666666666,\"#ed7953\"],[0.7777777777777778,\"#fb9f3a\"],[0.8888888888888888,\"#fdca26\"],[1.0,\"#f0f921\"]],\"sequentialminus\":[[0.0,\"#0d0887\"],[0.1111111111111111,\"#46039f\"],[0.2222222222222222,\"#7201a8\"],[0.3333333333333333,\"#9c179e\"],[0.4444444444444444,\"#bd3786\"],[0.5555555555555556,\"#d8576b\"],[0.6666666666666666,\"#ed7953\"],[0.7777777777777778,\"#fb9f3a\"],[0.8888888888888888,\"#fdca26\"],[1.0,\"#f0f921\"]],\"diverging\":[[0,\"#8e0152\"],[0.1,\"#c51b7d\"],[0.2,\"#de77ae\"],[0.3,\"#f1b6da\"],[0.4,\"#fde0ef\"],[0.5,\"#f7f7f7\"],[0.6,\"#e6f5d0\"],[0.7,\"#b8e186\"],[0.8,\"#7fbc41\"],[0.9,\"#4d9221\"],[1,\"#276419\"]]},\"xaxis\":{\"gridcolor\":\"white\",\"linecolor\":\"white\",\"ticks\":\"\",\"title\":{\"standoff\":15},\"zerolinecolor\":\"white\",\"automargin\":true,\"zerolinewidth\":2},\"yaxis\":{\"gridcolor\":\"white\",\"linecolor\":\"white\",\"ticks\":\"\",\"title\":{\"standoff\":15},\"zerolinecolor\":\"white\",\"automargin\":true,\"zerolinewidth\":2},\"scene\":{\"xaxis\":{\"backgroundcolor\":\"#E5ECF6\",\"gridcolor\":\"white\",\"linecolor\":\"white\",\"showbackground\":true,\"ticks\":\"\",\"zerolinecolor\":\"white\",\"gridwidth\":2},\"yaxis\":{\"backgroundcolor\":\"#E5ECF6\",\"gridcolor\":\"white\",\"linecolor\":\"white\",\"showbackground\":true,\"ticks\":\"\",\"zerolinecolor\":\"white\",\"gridwidth\":2},\"zaxis\":{\"backgroundcolor\":\"#E5ECF6\",\"gridcolor\":\"white\",\"linecolor\":\"white\",\"showbackground\":true,\"ticks\":\"\",\"zerolinecolor\":\"white\",\"gridwidth\":2}},\"shapedefaults\":{\"line\":{\"color\":\"#2a3f5f\"}},\"annotationdefaults\":{\"arrowcolor\":\"#2a3f5f\",\"arrowhead\":0,\"arrowwidth\":1},\"geo\":{\"bgcolor\":\"white\",\"landcolor\":\"#E5ECF6\",\"subunitcolor\":\"white\",\"showland\":true,\"showlakes\":true,\"lakecolor\":\"white\"},\"title\":{\"x\":0.05},\"mapbox\":{\"style\":\"light\"}}},\"xaxis\":{\"anchor\":\"y\",\"domain\":[0.0,1.0],\"title\":{\"text\":\"Reviews per Podcast\"}},\"yaxis\":{\"anchor\":\"x\",\"domain\":[0.0,1.0],\"title\":{\"text\":\"Average Rating\"}},\"legend\":{\"tracegroupgap\":0,\"itemsizing\":\"constant\"},\"margin\":{\"t\":25,\"l\":65,\"r\":10,\"b\":30},\"height\":511.1949685534591,\"width\":817.9119496855345},                        {\"responsive\": true}                    ).then(function(){\n",
       "                            \n",
       "var gd = document.getElementById('50e351e3-1cce-49f0-a18e-ec890f8dca17');\n",
       "var x = new MutationObserver(function (mutations, observer) {{\n",
       "        var display = window.getComputedStyle(gd).display;\n",
       "        if (!display || display === 'none') {{\n",
       "            console.log([gd, 'removed!']);\n",
       "            Plotly.purge(gd);\n",
       "            observer.disconnect();\n",
       "        }}\n",
       "}});\n",
       "\n",
       "// Listen for the removal of the full notebook cells\n",
       "var notebookContainer = gd.closest('#notebook-container');\n",
       "if (notebookContainer) {{\n",
       "    x.observe(notebookContainer, {childList: true});\n",
       "}}\n",
       "\n",
       "// Listen for the clearing of the current output cell\n",
       "var outputEl = gd.closest('.output');\n",
       "if (outputEl) {{\n",
       "    x.observe(outputEl, {childList: true});\n",
       "}}\n",
       "\n",
       "                        })                };                });            </script>        </div>"
      ]
     },
     "metadata": {},
     "output_type": "display_data"
    }
   ],
   "source": [
    "# | label: fig-cat-overview\n",
    "# | fig-cap: The average ratings of podcasts tagged in a category over the average number ratings a podcast tagged in that category received. The size of the point represent the total number of reviews podcasts tagged in the specific category had.\n",
    "figure_cat_overview = px.scatter(\n",
    "    category_stats,\n",
    "    x=\"ratings_per_pod\",\n",
    "    y=\"average_rating\",\n",
    "    size=\"Frequency\",\n",
    "    hover_name=category_stats.index,\n",
    "    width=base_fig_width * dpi,\n",
    "    height=base_fig_height * dpi,\n",
    ")\n",
    "figure_cat_overview.update_layout(\n",
    "    xaxis_title=\"Reviews per Podcast\", yaxis_title=\"Average Rating\"\n",
    ")\n",
    "\n",
    "default_plotly_margins(figure_cat_overview)\n",
    "\n",
    "figure_cat_overview.show()\n"
   ]
  },
  {
   "attachments": {},
   "cell_type": "markdown",
   "metadata": {},
   "source": [
    "##### What are the podcasts with the most reviews?"
   ]
  },
  {
   "cell_type": "code",
   "execution_count": 24,
   "metadata": {},
   "outputs": [
    {
     "data": {
      "text/markdown": [
       "| Title                                                         |   Number of Reviews |\n",
       "|:--------------------------------------------------------------|--------------------:|\n",
       "| Crime Junkie                                                  |               33104 |\n",
       "| My Favorite Murder with Karen Kilgariff and Georgia Hardstark |               10675 |\n",
       "| Wow in the World                                              |                9698 |\n",
       "| The Ben Shapiro Show                                          |                8248 |\n",
       "| Story Pirates                                                 |                7389 |"
      ],
      "text/plain": [
       "<IPython.core.display.Markdown object>"
      ]
     },
     "execution_count": 24,
     "metadata": {},
     "output_type": "execute_result"
    }
   ],
   "source": [
    "# | label: tbl-popular_pods\n",
    "# | tbl-cap: Podcasts with the most reviews\n",
    "Markdown(\n",
    "    tabulate(\n",
    "        review_stats_pod_agg.sort_values(\"num_reviews\", ascending=False)[\n",
    "            [\"title\", \"num_reviews\"]\n",
    "        ].head(5),\n",
    "        showindex=False,\n",
    "        headers=[\"Title\", \"Number of Reviews\"],\n",
    "        tablefmt=\"pipe\",\n",
    "    )\n",
    ")"
   ]
  },
  {
   "attachments": {},
   "cell_type": "markdown",
   "metadata": {},
   "source": [
    "### Reviewer Characteristics"
   ]
  },
  {
   "attachments": {},
   "cell_type": "markdown",
   "metadata": {},
   "source": [
    "#### How many reviewers left reviews?"
   ]
  },
  {
   "cell_type": "code",
   "execution_count": 25,
   "metadata": {},
   "outputs": [
    {
     "data": {
      "text/markdown": [
       "1.48M"
      ],
      "text/plain": [
       "<IPython.core.display.Markdown object>"
      ]
     },
     "execution_count": 25,
     "metadata": {},
     "output_type": "execute_result"
    }
   ],
   "source": [
    "Markdown(\n",
    "    numerize(\n",
    "        con.query(\n",
    "            \"\"\"--sql\n",
    "    SELECT COUNT(DISTINCT author_id)\n",
    "    FROM database.reviews\n",
    "\"\"\"\n",
    "        ).fetchone()[0]\n",
    "    )\n",
    ")"
   ]
  },
  {
   "attachments": {},
   "cell_type": "markdown",
   "metadata": {},
   "source": [
    "#### What is the distribution of the number of reviews each reviewer wrote?"
   ]
  },
  {
   "attachments": {},
   "cell_type": "markdown",
   "metadata": {},
   "source": [
    "##### Extracting the number of reviews per user:"
   ]
  },
  {
   "cell_type": "code",
   "execution_count": 26,
   "metadata": {},
   "outputs": [],
   "source": [
    "review_per_user = con.query(\n",
    "    \"\"\"--sql\n",
    "SELECT\n",
    "FLOOR(rating_count/1)*1 AS num_reviews,\n",
    "COUNT(*) as count\n",
    "FROM (\n",
    "  SELECT author_id, COUNT(rating) AS rating_count\n",
    "  FROM database.reviews\n",
    "  GROUP BY author_id\n",
    ") AS subquery\n",
    "GROUP BY 1\n",
    "ORDER BY 1\n",
    "\"\"\"\n",
    ").to_df()\n"
   ]
  },
  {
   "attachments": {},
   "cell_type": "markdown",
   "metadata": {},
   "source": [
    "##### Binning the numbers into custom bins:"
   ]
  },
  {
   "cell_type": "code",
   "execution_count": 27,
   "metadata": {},
   "outputs": [],
   "source": [
    "rev_per_user_bins = np.concatenate(\n",
    "    (\n",
    "        np.arange(0, 10),\n",
    "        np.arange(11, 101, 10),\n",
    "        np.arange(101, max(review_per_user[\"num_reviews\"]) + 100, 100),\n",
    "    )\n",
    ")\n",
    "\n",
    "review_per_user[\"reviews_binned\"] = pd.cut(\n",
    "    review_per_user[\"num_reviews\"], bins=rev_per_user_bins\n",
    ")\n"
   ]
  },
  {
   "attachments": {},
   "cell_type": "markdown",
   "metadata": {},
   "source": [
    "##### Histogram of the number of reviews each user wrote:"
   ]
  },
  {
   "cell_type": "code",
   "execution_count": 28,
   "metadata": {},
   "outputs": [
    {
     "data": {
      "image/png": "[encoded data removed]",
      "text/plain": [
       "<Figure size 800x500 with 1 Axes>"
      ]
     },
     "metadata": {},
     "output_type": "display_data"
    }
   ],
   "source": [
    "# | label: fig-rev-per-user\n",
    "# | fig-cap: The amount of users that wrote a certain number of reviews.\n",
    "\n",
    "# Figure Setup\n",
    "fig_rev_per_user, ax_rev_per_user = plt.subplots(\n",
    "    figsize=(base_fig_width, base_fig_height)\n",
    ")\n",
    "\n",
    "# Plot\n",
    "review_per_user.groupby(\"reviews_binned\")[\"count\"].sum().to_frame().plot.bar(\n",
    "    ax=ax_rev_per_user, legend=False\n",
    ")\n",
    "# Scale\n",
    "ax_rev_per_user.set_yscale(\"log\")\n",
    "\n",
    "# Bin labels\n",
    "bin_labels = []\n",
    "for i in range(1, 11):\n",
    "    bin_labels.append(str(i))\n",
    "for i in range(11, 101, 10):\n",
    "    bin_labels.append(f\"{i}-{i+9}\")\n",
    "for i in range(101, 700, 100):\n",
    "    bin_labels.append(f\"{i}-{i+99}\")\n",
    "bin_labels[-1] = \"600+\"\n",
    "ax_rev_per_user.set_xticklabels(bin_labels, rotation=45)\n",
    "\n",
    "# Titles\n",
    "axis_titles(ax_rev_per_user, \"Number of Reviews Written\", \"Number of Users\")\n",
    "\n",
    "plt.show()\n"
   ]
  },
  {
   "attachments": {},
   "cell_type": "markdown",
   "metadata": {},
   "source": [
    "As seen in @fig-rev-per-user most of the users wrote one or two reviews, yet there is also a number of people that wrote significantly more."
   ]
  },
  {
   "attachments": {},
   "cell_type": "markdown",
   "metadata": {},
   "source": [
    "##### Is there a correlation between the number of reviews and a user wrote and the average rating given?"
   ]
  },
  {
   "cell_type": "code",
   "execution_count": 29,
   "metadata": {},
   "outputs": [
    {
     "data": {
      "text/markdown": [
       "Pearsons r: -0.043"
      ],
      "text/plain": [
       "<IPython.core.display.Markdown object>"
      ]
     },
     "execution_count": 29,
     "metadata": {},
     "output_type": "execute_result"
    }
   ],
   "source": [
    "Markdown(\n",
    "    \"Pearsons r: \"\n",
    "    + str(\n",
    "        round(\n",
    "            con.query(\n",
    "                \"\"\"--sql\n",
    "SELECT corr(rating_count, avg_rating)\n",
    "FROM (\n",
    "SELECT author_id, COUNT(rating) AS rating_count, AVG(rating) AS avg_rating\n",
    "FROM database.reviews\n",
    "GROUP BY author_id) AS ratings\n",
    "\"\"\"\n",
    "            ).fetchone()[0],\n",
    "            3,\n",
    "        )\n",
    "    )\n",
    ")"
   ]
  },
  {
   "attachments": {},
   "cell_type": "markdown",
   "metadata": {},
   "source": [
    "No significant correlation was observed."
   ]
  },
  {
   "attachments": {},
   "cell_type": "markdown",
   "metadata": {},
   "source": [
    "#### What is the distribution of ratings amongst most prolific users (>10 reviews)?"
   ]
  },
  {
   "attachments": {},
   "cell_type": "markdown",
   "metadata": {},
   "source": [
    "##### Fetching the information about the reviews from users that rated more than 10 times:"
   ]
  },
  {
   "cell_type": "code",
   "execution_count": 30,
   "metadata": {},
   "outputs": [],
   "source": [
    "users_many_reviews = con.query(\n",
    "    \"\"\"--sql\n",
    "SELECT *\n",
    "FROM (\n",
    "SELECT author_id, COUNT(rating) AS rating_count, AVG(rating) AS avg_rating\n",
    "FROM database.reviews\n",
    "GROUP BY author_id) AS ratings\n",
    "WHERE ratings.rating_count>10\n",
    "\"\"\"\n",
    ").to_df()"
   ]
  },
  {
   "attachments": {},
   "cell_type": "markdown",
   "metadata": {},
   "source": [
    "##### Scatterplot visualization:"
   ]
  },
  {
   "cell_type": "code",
   "execution_count": 31,
   "metadata": {},
   "outputs": [
    {
     "data": {
      "image/png": "[encoded data removed]",
      "text/plain": [
       "<Figure size 800x500 with 1 Axes>"
      ]
     },
     "metadata": {},
     "output_type": "display_data"
    }
   ],
   "source": [
    "# | label: fig-user-scatter\n",
    "# | fig-cap: The average rating given by a user over the number of reviews that the user wrote.\n",
    "fig_rating_scatter, ax_rating_scatter = plt.subplots(\n",
    "    figsize=(base_fig_width, base_fig_height)\n",
    ")\n",
    "users_many_reviews.plot.scatter(\"rating_count\", \"avg_rating\", ax=ax_rating_scatter)\n",
    "ax_rating_scatter.set_xscale(\"log\")\n",
    "axis_titles(ax_rating_scatter, \"Number of Reviews\", \"Average Rating by User\")\n",
    "plt.show()"
   ]
  },
  {
   "attachments": {},
   "cell_type": "markdown",
   "metadata": {},
   "source": [
    "The majority of users that wrote hundreds of reviews gave exclusively \"5\" point ratings. This raises suspicion of bot activity."
   ]
  },
  {
   "attachments": {},
   "cell_type": "markdown",
   "metadata": {},
   "source": [
    "#### What were some of the reviews that a user who wrote more than 600 reviews gave?"
   ]
  },
  {
   "attachments": {},
   "cell_type": "markdown",
   "metadata": {},
   "source": [
    "##### Getting 5 random reviews of a specific user:"
   ]
  },
  {
   "cell_type": "code",
   "execution_count": 32,
   "metadata": {},
   "outputs": [],
   "source": [
    "prolific_user = users_many_reviews.sort_values(\n",
    "    [\"rating_count\", \"avg_rating\"], ascending=False\n",
    ").iloc[0, 0]\n",
    "random.seed(1)\n",
    "bot_comments = con.query(\n",
    "    \"\"\"--sql\n",
    "SELECT title, content\n",
    "FROM database.reviews\n",
    "WHERE author_id = '{}'\n",
    "ORDER BY RANDOM()\n",
    "LIMIT 5\n",
    "\"\"\".format(\n",
    "        prolific_user\n",
    "    )\n",
    ").to_df()\n"
   ]
  },
  {
   "attachments": {},
   "cell_type": "markdown",
   "metadata": {},
   "source": [
    "##### The reviews were:"
   ]
  },
  {
   "cell_type": "code",
   "execution_count": 33,
   "metadata": {},
   "outputs": [
    {
     "data": {
      "text/markdown": [
       "Title: Awesome Podcast!!! Comment: Gary, host of the Biohackers Lab podcast, highlight all aspects of health, fitness and more in this can’t miss podcast!  The host and expert guests offer insightful advice and information that is helpful to anyone that listens!<br />"
      ],
      "text/plain": [
       "<IPython.core.display.Markdown object>"
      ]
     },
     "metadata": {},
     "output_type": "display_data"
    },
    {
     "data": {
      "text/markdown": [
       "Title: Awesome Podcast!!! Comment: Kathleen, host of theInbound Success Podcast, highlights all aspects of marketing and more in this can’t miss podcast!  The host and expert guests offer insightful advice and information that is helpful to anyone that listens!<br />"
      ],
      "text/plain": [
       "<IPython.core.display.Markdown object>"
      ]
     },
     "metadata": {},
     "output_type": "display_data"
    },
    {
     "data": {
      "text/markdown": [
       "Title: Awesome Podcast!!! Comment: Ben, host of the Go Creative Show podcast, highlight all aspects of arts and more in this can’t miss podcast!  The host and expert guests offer insightful advice and information that is helpful to anyone that listens!<br />"
      ],
      "text/plain": [
       "<IPython.core.display.Markdown object>"
      ]
     },
     "metadata": {},
     "output_type": "display_data"
    },
    {
     "data": {
      "text/markdown": [
       "Title: Awesome Podcast!!! Comment: Craig, host of the Early to Rise Radio podcast, highlights all aspects of self improvement, success and more in this can’t miss podcast!  The host and expert guests offer insightful advice and information that is helpful to anyone that listens!<br />"
      ],
      "text/plain": [
       "<IPython.core.display.Markdown object>"
      ]
     },
     "metadata": {},
     "output_type": "display_data"
    },
    {
     "data": {
      "text/markdown": [
       "Title: Awesome Podcast!!! Comment: Mike & Euvie, host of the Future Thinkers Podcast, highlights all aspects of technology, innovation and more in this can’t miss podcast!  The host and expert guests offer insightful advice and information that is helpful to anyone that listens!<br />"
      ],
      "text/plain": [
       "<IPython.core.display.Markdown object>"
      ]
     },
     "metadata": {},
     "output_type": "display_data"
    }
   ],
   "source": [
    "for i, comment in bot_comments.iterrows():\n",
    "    display(Markdown(\"Title: \" + comment[0] + \" Comment: \" + comment[1] + \"<br />\"))\n"
   ]
  },
  {
   "attachments": {},
   "cell_type": "markdown",
   "metadata": {},
   "source": [
    "All of the reviews follow an identical pattern and since this user wrote more than six hundred of these, we can suspect that it's a bot, along with some of the other users."
   ]
  },
  {
   "attachments": {},
   "cell_type": "markdown",
   "metadata": {},
   "source": [
    "## User Negativity Analysis"
   ]
  },
  {
   "attachments": {},
   "cell_type": "markdown",
   "metadata": {},
   "source": [
    "The underlying premise of this section posits that certain authors might exhibit a consistent tendency to include a higher proportion of negative reviews compared to others. To examine this premise, we focus on a specific population of <b>users who have submitted between 5 and 10 reviews</b>. The selection of this range is arbitrary but serves as a means to identify users who have provided a reasonable number of reviews, indicating genuine engagement rather than automated or excessively frequent reviewing. Moreover, <b>users who have exclusively rated items with either a \"5\" or a \"1\" have been excluded</b> from this population of interest.\n",
    "\n",
    "\n",
    "To investigate this premise, three distinct statistical experiments were devised to address the following inquiries:\n",
    "\n",
    "1. Is there a higher likelihood for users who have given a \"1\" rating at least once to subsequently provide another negative rating, compared to those who have not assigned a \"1\" rating?\n",
    "2. Do users who have given at least one \"1\" rating tend to give lower average ratings overall, compared to users who have not assigned a \"1\" rating?\n",
    "3. What is the proportion of users who exclusively provide negative ratings, without assigning any positive ratings?"
   ]
  },
  {
   "attachments": {},
   "cell_type": "markdown",
   "metadata": {},
   "source": [
    "##### Gathering the required information about the population of interest."
   ]
  },
  {
   "cell_type": "code",
   "execution_count": 34,
   "metadata": {},
   "outputs": [],
   "source": [
    "average_reviewer = con.query(\n",
    "    \"\"\"--sql\n",
    "SELECT *\n",
    "FROM (\n",
    "SELECT author_id, COUNT(rating) AS rating_count, AVG(rating) AS avg_rating, GROUP_CONCAT(rating) AS user_ratings\n",
    "FROM database.reviews\n",
    "GROUP BY author_id) AS ratings\n",
    "WHERE (ratings.rating_count BETWEEN 3 AND 10)\n",
    "AND ratings.avg_rating !=5\n",
    "AND ratings.avg_rating !=1\n",
    "\"\"\"\n",
    ").to_df()\n",
    "\n",
    "# Changing the data format\n",
    "average_reviewer[\"user_ratings\"] = average_reviewer[\"user_ratings\"].apply(\n",
    "    lambda x: np.fromstring(x, dtype=int, sep=\",\")\n",
    ")\n"
   ]
  },
  {
   "attachments": {},
   "cell_type": "markdown",
   "metadata": {},
   "source": [
    "### Are Users that gave a \"1\" rating once more likely to rate badly again than those who did not?"
   ]
  },
  {
   "attachments": {},
   "cell_type": "markdown",
   "metadata": {},
   "source": [
    "In this experiment, the users were segregated into two distinct groups based on their rating behavior: those who had assigned a \"1\" rating at least once, referred to as \"<b>1-raters</b>,\" and those who had never provided a \"1\" rating, referred to as \"<b>1-non-raters</b>.\" To ensure that the initial \"1\" rating did not bias the results, the lowest-rated review from each user was excluded. Subsequently, the population was further divided into two subgroups: those who had given at least one additional rating lower than \"3\" (either \"1\" or \"2\") and those who had not. The disparity in proportions between the individuals who had given another negative rating and those who had not, among both the 1-raters and 1-non-raters, was then calculated."
   ]
  },
  {
   "attachments": {},
   "cell_type": "markdown",
   "metadata": {},
   "source": [
    "##### Splitting the users into two groups:"
   ]
  },
  {
   "cell_type": "code",
   "execution_count": 35,
   "metadata": {},
   "outputs": [],
   "source": [
    "average_reviewer[\"rated_1\"] = average_reviewer[\"user_ratings\"].apply(\n",
    "    lambda lst: 1 in lst\n",
    ")\n"
   ]
  },
  {
   "attachments": {},
   "cell_type": "markdown",
   "metadata": {},
   "source": [
    "##### Removing a single worst rating from every user's list of ratings:"
   ]
  },
  {
   "cell_type": "code",
   "execution_count": 36,
   "metadata": {},
   "outputs": [],
   "source": [
    "average_reviewer[\"ratings_updated\"] = average_reviewer[\"user_ratings\"].apply(\n",
    "    lambda x: np.delete(x, x.argmin())\n",
    ")\n"
   ]
  },
  {
   "attachments": {},
   "cell_type": "markdown",
   "metadata": {},
   "source": [
    "##### Identifying those who gave one more bad rating:"
   ]
  },
  {
   "cell_type": "code",
   "execution_count": 37,
   "metadata": {},
   "outputs": [],
   "source": [
    "average_reviewer[\"rated_bad_again\"] = average_reviewer[\"ratings_updated\"].apply(\n",
    "    lambda x: np.any(x < 3)\n",
    ")\n",
    "\n",
    "\n",
    "average_user_n = len(average_reviewer)\n"
   ]
  },
  {
   "attachments": {},
   "cell_type": "markdown",
   "metadata": {},
   "source": [
    "#### How many people gave at least one \"1\" rating?"
   ]
  },
  {
   "cell_type": "code",
   "execution_count": 38,
   "metadata": {},
   "outputs": [
    {
     "data": {
      "text/plain": [
       "True     19163\n",
       "False    17873\n",
       "Name: rated_1, dtype: int64"
      ]
     },
     "execution_count": 38,
     "metadata": {},
     "output_type": "execute_result"
    }
   ],
   "source": [
    "average_reviewer[\"rated_1\"].value_counts()\n"
   ]
  },
  {
   "attachments": {},
   "cell_type": "markdown",
   "metadata": {},
   "source": [
    "#### What is the difference in proportions of people who gave another bad rating between \"1-raters\" and \"1-non-raters\"?"
   ]
  },
  {
   "attachments": {},
   "cell_type": "markdown",
   "metadata": {},
   "source": [
    "##### What are the proportions of users who rated badly again between the two groups?"
   ]
  },
  {
   "cell_type": "code",
   "execution_count": 39,
   "metadata": {},
   "outputs": [
    {
     "data": {
      "text/markdown": [
       "Group 1-raters p = 0.51 <br />Group-1-non-raters p = 0.06"
      ],
      "text/plain": [
       "<IPython.core.display.Markdown object>"
      ]
     },
     "execution_count": 39,
     "metadata": {},
     "output_type": "execute_result"
    }
   ],
   "source": [
    "group_1raters_n = len(\n",
    "    average_reviewer.loc[average_reviewer[\"rated_1\"], \"rated_bad_again\"]\n",
    ")\n",
    "\n",
    "group_1nonraters_n = len(\n",
    "    average_reviewer.loc[~average_reviewer[\"rated_1\"], \"rated_bad_again\"]\n",
    ")\n",
    "\n",
    "group_1raters_p = (\n",
    "    average_reviewer.loc[average_reviewer[\"rated_1\"], \"rated_bad_again\"].value_counts()[\n",
    "        True\n",
    "    ]\n",
    "    / group_1raters_n\n",
    ")\n",
    "\n",
    "group_1nonraters_p = (\n",
    "    average_reviewer.loc[\n",
    "        ~average_reviewer[\"rated_1\"], \"rated_bad_again\"\n",
    "    ].value_counts()[True]\n",
    "    / group_1nonraters_n\n",
    ")\n",
    "\n",
    "Markdown(\n",
    "    f\"Group 1-raters p = {round(group_1raters_p,2)} <br />Group-1-non-raters p = {round(group_1nonraters_p, 2)}\"\n",
    ")"
   ]
  },
  {
   "attachments": {},
   "cell_type": "markdown",
   "metadata": {},
   "source": [
    "##### Calculating the standard error:"
   ]
  },
  {
   "cell_type": "code",
   "execution_count": 40,
   "metadata": {},
   "outputs": [],
   "source": [
    "low_ratings_se = np.sqrt(\n",
    "    (group_1raters_p * (1 - group_1raters_p) / group_1raters_n)\n",
    "    + (group_1nonraters_p * (1 - group_1nonraters_p) / group_1nonraters_n)\n",
    ")"
   ]
  },
  {
   "attachments": {},
   "cell_type": "markdown",
   "metadata": {},
   "source": [
    "##### Calculating the margin of error:"
   ]
  },
  {
   "cell_type": "code",
   "execution_count": 41,
   "metadata": {},
   "outputs": [],
   "source": [
    "low_ratings_er = stats.norm.ppf(0.95) * low_ratings_se"
   ]
  },
  {
   "attachments": {},
   "cell_type": "markdown",
   "metadata": {},
   "source": [
    "To analyze the outcomes, the critical values from the z-distribution were employed, given that the results were binary (boolean) and the population size was deemed sufficiently large. As it was established that one proportion is anticipated to be greater than the other, a one-tailed critical value coefficient was utilized in the analysis."
   ]
  },
  {
   "attachments": {},
   "cell_type": "markdown",
   "metadata": {},
   "source": [
    "##### What is the difference in the chance that a user will give another bad rating between \"1-raters\" and \"1-non-raters\", with a 95% confidence:"
   ]
  },
  {
   "cell_type": "code",
   "execution_count": 42,
   "metadata": {},
   "outputs": [
    {
     "data": {
      "text/markdown": [
       "The difference is between \n",
       "43.9%\n",
       "and 45.3%"
      ],
      "text/plain": [
       "<IPython.core.display.Markdown object>"
      ]
     },
     "execution_count": 42,
     "metadata": {},
     "output_type": "execute_result"
    }
   ],
   "source": [
    "Markdown(\n",
    "    f\"\"\"The difference is between \n",
    "{round((group_1raters_p-group_1nonraters_p-low_ratings_er)*100,1)}%\n",
    "and {round((group_1raters_p-group_1nonraters_p+low_ratings_er)*100,1)}%\"\"\"\n",
    ")\n"
   ]
  },
  {
   "attachments": {},
   "cell_type": "markdown",
   "metadata": {},
   "source": [
    "When one of the proportions is small in absolute terms, relying solely on the difference in proportions may not provide a complete picture. Instead, calculating the ratio of proportions offers a better understanding of the disparity between the populations. Using a ratio allows us to compare the proportions and assess the relative magnitude of the difference, providing a more nuanced interpretation of the results."
   ]
  },
  {
   "attachments": {},
   "cell_type": "markdown",
   "metadata": {},
   "source": [
    "#### What is the ratio of the proportions of users who gave another low rating between 1-raters and 1-non-raters:"
   ]
  },
  {
   "attachments": {},
   "cell_type": "markdown",
   "metadata": {},
   "source": [
    "##### Katz logarithmic 95% confidence intervals for the ratio of population proportions:"
   ]
  },
  {
   "cell_type": "code",
   "execution_count": 43,
   "metadata": {},
   "outputs": [
    {
     "data": {
      "text/markdown": [
       "The proportion of people who gave another bad rating is \n",
       "         7.5 to\n",
       "         8.4 \n",
       "         times larger in \"1-raters\" than \"1-non-raters\" "
      ],
      "text/plain": [
       "<IPython.core.display.Markdown object>"
      ]
     },
     "execution_count": 43,
     "metadata": {},
     "output_type": "execute_result"
    }
   ],
   "source": [
    "proportion_ratio = stats.contingency.relative_risk(\n",
    "    int(group_1raters_p * group_1raters_n),\n",
    "    group_1raters_n,\n",
    "    int(group_1nonraters_p * group_1nonraters_n),\n",
    "    group_1nonraters_n,\n",
    ")\n",
    "Markdown(\n",
    "    f\"\"\"The proportion of people who gave another bad rating is \n",
    "         {str(round(proportion_ratio.confidence_interval(0.95)[0],1))} to\n",
    "         {str(round(proportion_ratio.confidence_interval(0.95)[1],1))} \n",
    "         times larger in \"1-raters\" than \"1-non-raters\" \"\"\"\n",
    ")"
   ]
  },
  {
   "attachments": {},
   "cell_type": "markdown",
   "metadata": {},
   "source": [
    "##### What are the odds ratio of another bad rating occurring in the two groups?"
   ]
  },
  {
   "cell_type": "code",
   "execution_count": 44,
   "metadata": {},
   "outputs": [
    {
     "data": {
      "text/markdown": [
       "The odds of at least one more bad rating are\n",
       "         14.2 to\n",
       "         16.2\n",
       "         times more likely to occur in the \"1-rater\" group\n",
       "         "
      ],
      "text/plain": [
       "<IPython.core.display.Markdown object>"
      ]
     },
     "execution_count": 44,
     "metadata": {},
     "output_type": "execute_result"
    }
   ],
   "source": [
    "bad_rates_con_tab = [\n",
    "    [\n",
    "        int(group_1raters_p * group_1raters_n),\n",
    "        int(group_1nonraters_p * group_1nonraters_n),\n",
    "    ],\n",
    "    [\n",
    "        int((1 - group_1raters_p) * group_1raters_n),\n",
    "        int((1 - group_1nonraters_p) * group_1nonraters_n),\n",
    "    ],\n",
    "]\n",
    "bad_rates_odds = stats.contingency.odds_ratio(bad_rates_con_tab)\n",
    "\n",
    "Markdown(\n",
    "    f\"\"\"The odds of at least one more bad rating are\n",
    "         {str(round(bad_rates_odds.confidence_interval(0.95)[0],1))} to\n",
    "         {str(round(bad_rates_odds.confidence_interval(0.95)[1],1))}\n",
    "         times more likely to occur in the \"1-rater\" group\n",
    "         \"\"\"\n",
    ")"
   ]
  },
  {
   "attachments": {},
   "cell_type": "markdown",
   "metadata": {},
   "source": [
    "##### Experiment Summary\n",
    "This experiment does have an inherent flaw from a probability perspective. The \"1-non-raters\" group has one less option for assigning a bad rating, as they only have the option of rating as \"2\" instead of both \"1\" and \"2\". This discrepancy implies that, if ratings were entirely random, the odds of another bad rating would be almost twice as high in the \"1-raters\" group. However, observational logic suggests that assigning a bad rating should be a rare and independent event.\n",
    "\n",
    "Interestingly, the results of this experiment reveal a significant difference in proportions between users who gave another bad rating in the \"1-raters\" and \"1-non-raters\" groups, far grater than the expected default two times difference in odds. This finding supports the premise that certain individuals tend to consistently leave more negative ratings. Despite the flaw in the probability perspective, the experiment's outcomes provide evidence for the hypothesis that some users exhibit a tendency to consistently provide unfavorable reviews."
   ]
  },
  {
   "attachments": {},
   "cell_type": "markdown",
   "metadata": {},
   "source": [
    "### Is the average of other ratings between \"1-raters\" and \"1-non-raters\" different?"
   ]
  },
  {
   "attachments": {},
   "cell_type": "markdown",
   "metadata": {},
   "source": [
    "This section examines the disparity in means of ratings between the two groups established in the initial experiment. The average ratings were calculated from the lists with the single worst rating removed for each user in both groups. By comparing the means of ratings, we aim to assess whether there is a significant difference in the average ratings between the two groups."
   ]
  },
  {
   "attachments": {},
   "cell_type": "markdown",
   "metadata": {},
   "source": [
    "##### Calculating the average rating for each user:"
   ]
  },
  {
   "cell_type": "code",
   "execution_count": 45,
   "metadata": {},
   "outputs": [],
   "source": [
    "average_reviewer[\"avg_rating_updated\"] = average_reviewer[\"ratings_updated\"].apply(\n",
    "    lambda x: np.mean(x)\n",
    ")\n"
   ]
  },
  {
   "attachments": {},
   "cell_type": "markdown",
   "metadata": {},
   "source": [
    "##### Calculating the population averages:"
   ]
  },
  {
   "cell_type": "code",
   "execution_count": 46,
   "metadata": {},
   "outputs": [],
   "source": [
    "group_1raters_mean = average_reviewer.loc[\n",
    "    average_reviewer[\"rated_1\"] == True, \"avg_rating_updated\"\n",
    "].mean()\n",
    "group_1nonraters_mean = average_reviewer.loc[\n",
    "    average_reviewer[\"rated_1\"] == False, \"avg_rating_updated\"\n",
    "].mean()"
   ]
  },
  {
   "attachments": {},
   "cell_type": "markdown",
   "metadata": {},
   "source": [
    "##### Average rating distribution between the two groups:"
   ]
  },
  {
   "cell_type": "code",
   "execution_count": 47,
   "metadata": {},
   "outputs": [
    {
     "data": {
      "image/png": "[encoded data removed]",
      "text/plain": [
       "<Figure size 800x500 with 1 Axes>"
      ]
     },
     "metadata": {},
     "output_type": "display_data"
    }
   ],
   "source": [
    "# | label: fig-user-rating-means\n",
    "# | fig-cap: Box plots of average ratings by distinct users in both groups.\n",
    "fig_user_rating_means, ax_user_rating_means = plt.subplots(\n",
    "    figsize=(base_fig_width, base_fig_height)\n",
    ")\n",
    "average_reviewer.plot.box(\n",
    "    column=\"avg_rating_updated\", by=\"rated_1\", ax=ax_user_rating_means\n",
    ")\n",
    "axis_titles(ax_user_rating_means, ytitle=\"Average Rating\")\n",
    "ax_user_rating_means.set_xticklabels((\"1-non-raters\", \"1-raters\"))\n",
    "plt.show()"
   ]
  },
  {
   "attachments": {},
   "cell_type": "markdown",
   "metadata": {},
   "source": [
    "From the distribution of average ratings shown in @fig-user-rating-means it is clear that the ratings tend to be lower and more deviated from the mean in \"1-raters\". To establish a more precise difference the difference in means with a 95% confidence will be calculated."
   ]
  },
  {
   "attachments": {},
   "cell_type": "markdown",
   "metadata": {},
   "source": [
    "##### Calculating the standard deviations between the groups:"
   ]
  },
  {
   "cell_type": "code",
   "execution_count": 48,
   "metadata": {},
   "outputs": [
    {
     "data": {
      "text/markdown": [
       "Group 1-raters Standard deviation: 1.08<br />\n",
       "Group 1-non-raters Standard deviation: 0.54"
      ],
      "text/plain": [
       "<IPython.core.display.Markdown object>"
      ]
     },
     "execution_count": 48,
     "metadata": {},
     "output_type": "execute_result"
    }
   ],
   "source": [
    "group_1raters_std = average_reviewer.loc[\n",
    "    average_reviewer[\"rated_1\"] == True, \"avg_rating_updated\"\n",
    "].std()\n",
    "group_1nonraters_std = average_reviewer.loc[\n",
    "    average_reviewer[\"rated_1\"] == False, \"avg_rating_updated\"\n",
    "].std()\n",
    "Markdown(\n",
    "    f\"\"\"Group 1-raters Standard deviation: {round(group_1raters_std,2)}<br />\n",
    "Group 1-non-raters Standard deviation: {round(group_1nonraters_std,2)}\"\"\"\n",
    ")"
   ]
  },
  {
   "attachments": {},
   "cell_type": "markdown",
   "metadata": {},
   "source": [
    "##### Calculating the Margin of error 95% confidence:"
   ]
  },
  {
   "cell_type": "code",
   "execution_count": 49,
   "metadata": {},
   "outputs": [],
   "source": [
    "avg_rate_dif_me = (\n",
    "    stats.norm.ppf(0.95)\n",
    "    * (group_1nonraters_mean - group_1raters_mean)\n",
    "    * np.sqrt(\n",
    "        (group_1raters_std / group_1raters_n)\n",
    "        + (group_1nonraters_std / group_1nonraters_n)\n",
    "    )\n",
    ")\n"
   ]
  },
  {
   "attachments": {},
   "cell_type": "markdown",
   "metadata": {},
   "source": [
    "##### The difference in mean rating between Groups 1-raters and 1-non-raters with 95% confidence:"
   ]
  },
  {
   "cell_type": "code",
   "execution_count": 50,
   "metadata": {},
   "outputs": [
    {
     "data": {
      "text/markdown": [
       "The mean average rating of 1-raters is between \n",
       "0.79\n",
       "and 0.81\n",
       "lower than that of 1-non-raters.\n"
      ],
      "text/plain": [
       "<IPython.core.display.Markdown object>"
      ]
     },
     "execution_count": 50,
     "metadata": {},
     "output_type": "execute_result"
    }
   ],
   "source": [
    "Markdown(\n",
    "    f\"\"\"The mean average rating of 1-raters is between \n",
    "{round((group_1nonraters_mean-group_1raters_mean-avg_rate_dif_me),2)}\n",
    "and {round((group_1nonraters_mean-group_1raters_mean+avg_rate_dif_me),2)}\n",
    "lower than that of 1-non-raters.\n",
    "\"\"\"\n",
    ")\n"
   ]
  },
  {
   "attachments": {},
   "cell_type": "markdown",
   "metadata": {},
   "source": [
    "##### Experiment summary\n",
    "The average rating of 1-raters is significantly lower than that of 1-non-raters, which also supports the initial premise."
   ]
  },
  {
   "attachments": {},
   "cell_type": "markdown",
   "metadata": {},
   "source": [
    "### What is the percentage of people that only leave bad ratings ( below 3)?{#sec-only_bad}"
   ]
  },
  {
   "attachments": {},
   "cell_type": "markdown",
   "metadata": {},
   "source": [
    "##### Identifying the users who only left ratings \"1\" and \"2\""
   ]
  },
  {
   "cell_type": "code",
   "execution_count": 51,
   "metadata": {},
   "outputs": [],
   "source": [
    "average_reviewer[\"only_bad\"] = average_reviewer[\"user_ratings\"].apply(\n",
    "    lambda x: np.all(x < 3)\n",
    ")\n"
   ]
  },
  {
   "attachments": {},
   "cell_type": "markdown",
   "metadata": {},
   "source": [
    "##### Calculating the proportion"
   ]
  },
  {
   "cell_type": "code",
   "execution_count": 52,
   "metadata": {},
   "outputs": [
    {
     "data": {
      "text/markdown": [
       "The proportion of users who only left ratings of \"1\" and \"2\" is\n",
       "     2.17%."
      ],
      "text/plain": [
       "<IPython.core.display.Markdown object>"
      ]
     },
     "execution_count": 52,
     "metadata": {},
     "output_type": "execute_result"
    }
   ],
   "source": [
    "only_bad_p = average_reviewer[\"only_bad\"].value_counts()[1] / average_user_n\n",
    "Markdown(\n",
    "    f\"\"\"The proportion of users who only left ratings of \"1\" and \"2\" is\n",
    "     {round(only_bad_p*100,2)}%.\"\"\"\n",
    ")\n"
   ]
  },
  {
   "attachments": {},
   "cell_type": "markdown",
   "metadata": {},
   "source": [
    "##### Calculating the margin of error."
   ]
  },
  {
   "cell_type": "code",
   "execution_count": 53,
   "metadata": {},
   "outputs": [],
   "source": [
    "only_bad_me = stats.norm.ppf((1 + 0.95) / 2) * np.sqrt(\n",
    "    only_bad_p * (1 - only_bad_p) / average_user_n\n",
    ")"
   ]
  },
  {
   "attachments": {},
   "cell_type": "markdown",
   "metadata": {},
   "source": [
    "##### Result:"
   ]
  },
  {
   "cell_type": "code",
   "execution_count": 54,
   "metadata": {},
   "outputs": [
    {
     "data": {
      "text/markdown": [
       "\n",
       "There is between 2.02%\n",
       "and 2.31% of users that\n",
       "only left ratings \"1\" and \"2\"\n"
      ],
      "text/plain": [
       "<IPython.core.display.Markdown object>"
      ]
     },
     "execution_count": 54,
     "metadata": {},
     "output_type": "execute_result"
    }
   ],
   "source": [
    "Markdown(\n",
    "    f\"\"\"\n",
    "There is between {round((only_bad_p-only_bad_me)*100,2)}%\n",
    "and {round((only_bad_p+only_bad_me)*100,2)}% of users that\n",
    "only left ratings \"1\" and \"2\"\n",
    "\"\"\"\n",
    ")"
   ]
  },
  {
   "attachments": {},
   "cell_type": "markdown",
   "metadata": {},
   "source": [
    "##### Experiment summary\n",
    "There are 2.0% to 2.3% percent of users who only left bad ratings. Keeping in mind that this is from a population that left 5 to 10 ratings, this is a significant amount of users that only down rank certain podcasts and not necceraly contribute to an objective evaluation of their quality."
   ]
  },
  {
   "attachments": {},
   "cell_type": "markdown",
   "metadata": {},
   "source": [
    "##### Data Preparation for Looker Studio"
   ]
  },
  {
   "cell_type": "code",
   "execution_count": 55,
   "metadata": {},
   "outputs": [],
   "source": [
    "sad_users = \",\".join(\n",
    "    [\n",
    "        f\"'{id}'\"\n",
    "        for id in average_reviewer.loc[average_reviewer[\"only_bad\"], \"author_id\"]\n",
    "    ]\n",
    ")\n",
    "\n",
    "# podcasts rated by users who only left bad ratings\n",
    "pods_rated_by_sads = con.execute(\n",
    "    f\"\"\"--sql\n",
    "    SELECT DISTINCT podcast_id\n",
    "    FROM database.reviews\n",
    "    WHERE author_id IN ({sad_users})\n",
    "        \"\"\"\n",
    ").fetchnumpy()[\"podcast_id\"]\n",
    "\n",
    "pods_rated_by_sads_full = podcasts_categories.loc[\n",
    "    podcasts_categories[\"podcast_id\"].isin(pods_rated_by_sads)\n",
    "]\n",
    "\n",
    "# counting the number of times each category was tagged in podcasts rated by sad users\n",
    "cat_by_sads_counter = Counter()\n",
    "for cat in pods_rated_by_sads_full[\"categories_agg\"]:\n",
    "    cat_by_sads_counter.update(cat)\n",
    "cats_rated_by_sads = pd.DataFrame.from_dict(\n",
    "    dict(cat_by_sads_counter), orient=\"index\", columns=[\"Frequency\"]\n",
    ").sort_values(\"Frequency\", ascending=False)\n",
    "\n",
    "# Exporting to csv\n",
    "cats_rated_by_sads = cats_rated_by_sads.join(category_frequency, rsuffix=\"_Full\")\n",
    "cats_rated_by_sads.index.name = \"Category\"\n",
    "cats_rated_by_sads.to_csv(\"cats_by_sads.csv\")"
   ]
  },
  {
   "attachments": {},
   "cell_type": "markdown",
   "metadata": {},
   "source": [
    "::: {#fig-cats-by-sads}\n",
    "<iframe width=\"800\" height=\"500\" src=\"https://lookerstudio.google.com/embed/reporting/c71f2848-3e5f-48c4-b46e-0a8fbe0da22b/page/knaSD\" frameborder=\"0\" style=\"border:0\" allowfullscreen></iframe> \n",
    "Top categories rated by negative users identified in @sec-only_bad . The bars display the percentage of reviews left by the negative users when compared to the total amount of reviews for that category.\n",
    ":::"
   ]
  },
  {
   "attachments": {},
   "cell_type": "markdown",
   "metadata": {},
   "source": [
    "## Rating Polarization Analysis"
   ]
  },
  {
   "attachments": {},
   "cell_type": "markdown",
   "metadata": {},
   "source": [
    "\n",
    "The underlying premise of this section posits that podcasts centered around certain topics, such as politics, may exhibit a higher degree of polarization in user ratings. This polarization suggests that such podcasts are more likely to receive a significant number of very positive or very negative ratings, while receiving fewer ratings in the moderate range. This phenomenon may indicate that user evaluations are influenced more by personal biases rather than the quality of the podcasts.\n",
    "\n",
    "To examine this premise, a new metric called \"<b>polarization points</b>\" was introduced. This metric assigned two points for each \"1\" or \"5\" rating, one point for each \"2\" or \"4\" rating, and zero points for \"3\" ratings. The distribution of these polarization points across various categories was then evaluated. By analyzing this distribution, we aim to assess whether podcasts with specific topics, such as politics, exhibit a higher concentration of extreme ratings and a lower presence of moderate ratings, supporting the notion of polarization in user evaluations."
   ]
  },
  {
   "attachments": {},
   "cell_type": "markdown",
   "metadata": {},
   "source": [
    "##### Getting the list of non aggregated category names:"
   ]
  },
  {
   "cell_type": "code",
   "execution_count": 56,
   "metadata": {},
   "outputs": [],
   "source": [
    "topics_arr = con.execute(\n",
    "    f\"\"\"--sql\n",
    "        SELECT DISTINCT category\n",
    "        FROM database.categories\n",
    "            \"\"\"\n",
    ").fetchnumpy()"
   ]
  },
  {
   "attachments": {},
   "cell_type": "markdown",
   "metadata": {},
   "source": [
    "Getting the average rating, the number of podcasts, the standard deviation of ratings, and the frequency of ratings in each category:"
   ]
  },
  {
   "cell_type": "code",
   "execution_count": 57,
   "metadata": {},
   "outputs": [],
   "source": [
    "topic_stats = {}\n",
    "for topic in topics_arr[\"category\"]:\n",
    "    topic_stats[topic] = con.execute(\n",
    "        f\"\"\"--sql\n",
    "SELECT AVG(subq.rating) AS average_rating,\n",
    "       COUNT(subq.rating) AS num_podcasts,\n",
    "       stddev_pop(subq.rating) AS rating_std,\n",
    "       GROUP_CONCAT(DISTINCT grouped_subquery.rating) AS ratings,\n",
    "       GROUP_CONCAT(DISTINCT grouped_subquery.rating_frequency) AS rating_frequencies\n",
    "FROM (\n",
    "  SELECT rating, COUNT(*) AS rating_frequency\n",
    "  FROM database.reviews\n",
    "  WHERE podcast_id IN (\n",
    "    SELECT DISTINCT podcast_id\n",
    "    FROM database.categories\n",
    "    WHERE category = '{topic}'\n",
    "  )\n",
    "  GROUP BY rating\n",
    ") AS grouped_subquery,\n",
    "(\n",
    "  SELECT rating\n",
    "  FROM database.reviews\n",
    "  WHERE podcast_id IN (\n",
    "    SELECT DISTINCT podcast_id\n",
    "    FROM database.categories\n",
    "    WHERE category = '{topic}'\n",
    "  )\n",
    ") AS subq\n",
    "\n",
    "            \"\"\"\n",
    "    ).fetchone()\n",
    "\n",
    "topic_stats = pd.DataFrame.from_dict(topic_stats).T\n",
    "topic_stats.columns = [\"avg_rating\", \"n\", \"std\", \"ratings\", \"freq\"]\n",
    "topic_stats[[\"ratings\", \"freq\"]] = topic_stats[[\"ratings\", \"freq\"]].applymap(\n",
    "    lambda x: np.fromstring(x, dtype=int, sep=\",\")\n",
    ")"
   ]
  },
  {
   "attachments": {},
   "cell_type": "markdown",
   "metadata": {},
   "source": [
    "It should be noted that since podcasts can be tagged in several different topics, some of the reviews are counted in repeatedly in different topics."
   ]
  },
  {
   "attachments": {},
   "cell_type": "markdown",
   "metadata": {},
   "source": [
    "##### Removing badly imported topics."
   ]
  },
  {
   "cell_type": "code",
   "execution_count": 58,
   "metadata": {},
   "outputs": [],
   "source": [
    "topic_stats = topic_stats[\n",
    "    topic_stats.apply(lambda x: len(x[\"ratings\"]) == len(x[\"freq\"]), axis=1)\n",
    "]"
   ]
  },
  {
   "attachments": {},
   "cell_type": "markdown",
   "metadata": {},
   "source": [
    "##### Calculating polarization points for each category:"
   ]
  },
  {
   "cell_type": "code",
   "execution_count": 59,
   "metadata": {},
   "outputs": [],
   "source": [
    "topic_stats[\"pol_points\"] = topic_stats.apply(\n",
    "    lambda row: pol_points(row[\"ratings\"], row[\"freq\"]), axis=1\n",
    ")\n"
   ]
  },
  {
   "attachments": {},
   "cell_type": "markdown",
   "metadata": {},
   "source": [
    "##### Calculating the margin of error for the average of ratings in each category:"
   ]
  },
  {
   "cell_type": "code",
   "execution_count": 60,
   "metadata": {},
   "outputs": [],
   "source": [
    "topic_stats[\"ME\"] = (\n",
    "    stats.norm.ppf(((1 + 0.95) / 2)) * topic_stats[\"std\"] / (topic_stats[\"n\"] ** 0.5)\n",
    ")\n",
    "topic_stats.index.name = \"topic\"\n",
    "topic_stats[\"avg_rating\"] = topic_stats[\"avg_rating\"].astype(float)"
   ]
  },
  {
   "attachments": {},
   "cell_type": "markdown",
   "metadata": {},
   "source": [
    "##### The top topics by polarization points:"
   ]
  },
  {
   "cell_type": "code",
   "execution_count": 61,
   "metadata": {},
   "outputs": [
    {
     "data": {
      "text/markdown": [
       "| topic                      |   avg_rating |   pol_points |\n",
       "|:---------------------------|-------------:|-------------:|\n",
       "| sports-rugby               |      4.98802 |      1.98802 |\n",
       "| business-non-profit        |      4.90117 |      1.97354 |\n",
       "| business-entrepreneurship  |      4.90838 |      1.97348 |\n",
       "| business-marketing         |      4.9371  |      1.97243 |\n",
       "| education-self-improvement |      4.87677 |      1.96421 |"
      ],
      "text/plain": [
       "<IPython.core.display.Markdown object>"
      ]
     },
     "execution_count": 61,
     "metadata": {},
     "output_type": "execute_result"
    }
   ],
   "source": [
    "# | label: tbl-pol-point\n",
    "# | tbl-cap: Topic with most polarization points.\n",
    "Markdown(\n",
    "    tabulate(\n",
    "        topic_stats[[\"avg_rating\", \"pol_points\"]]\n",
    "        .sort_values(\"pol_points\", ascending=False)\n",
    "        .head(),\n",
    "        showindex=True,\n",
    "        headers=\"keys\",\n",
    "        tablefmt=\"pipe\",\n",
    "    )\n",
    ")"
   ]
  },
  {
   "attachments": {},
   "cell_type": "markdown",
   "metadata": {},
   "source": [
    "Upon closer examination, it appears that the topics with the highest polarization points do not align with an intuitive observational perspective, as they seem to be neutral topics. Additionally, these topics also exhibit remarkably high average ratings. Considering that the majority of ratings are \"5,\" as demonstrated in @fig-reviews-pod, it is conceivable that a positive correlation exists between the polarization points and the average rating. This correlation could potentially obscure the true results.\n",
    "\n",
    "To investigate this relationship further, a more detailed analysis is conducted using a linear fit. This analysis allows for the exploration of any outliers that do not conform to the expected trend. By closely examining these outliers, we aim to gain a deeper understanding of the relationship between polarization points and average ratings and to determine whether there are any exceptional cases that deviate from the overall pattern. This approach provides a more comprehensive assessment of the relationship between polarization points and ratings, shedding light on any potential nuances that may exist."
   ]
  },
  {
   "attachments": {},
   "cell_type": "markdown",
   "metadata": {},
   "source": [
    "##### Creating a scatter plot of average ratings and polarization points with a linear fit:"
   ]
  },
  {
   "cell_type": "code",
   "execution_count": 62,
   "metadata": {},
   "outputs": [],
   "source": [
    "fig_topics_scatter = px.scatter(\n",
    "    topic_stats,\n",
    "    \"avg_rating\",\n",
    "    \"pol_points\",\n",
    "    hover_name=topic_stats.index,\n",
    "    trendline=\"ols\",\n",
    "    width=base_fig_width * dpi,\n",
    "    height=base_fig_height * dpi,\n",
    "    labels={\"avg_rating\": \"Average Rating\", \"pol_points\": \"Review Polarization Points\"},\n",
    ")\n",
    "pol_line_results = px.get_trendline_results(fig_topics_scatter)[\"px_fit_results\"][0]\n"
   ]
  },
  {
   "attachments": {},
   "cell_type": "markdown",
   "metadata": {},
   "source": [
    "##### The R-square of the linear fit:"
   ]
  },
  {
   "cell_type": "code",
   "execution_count": 63,
   "metadata": {},
   "outputs": [
    {
     "data": {
      "text/plain": [
       "0.833"
      ]
     },
     "execution_count": 63,
     "metadata": {},
     "output_type": "execute_result"
    }
   ],
   "source": [
    "round(pol_line_results.rsquared, 3)"
   ]
  },
  {
   "attachments": {},
   "cell_type": "markdown",
   "metadata": {},
   "source": [
    "##### Evaluating the distribution of residuals from the fit:"
   ]
  },
  {
   "cell_type": "code",
   "execution_count": 64,
   "metadata": {},
   "outputs": [
    {
     "data": {
      "image/png": "[encoded data removed]",
      "text/plain": [
       "<Figure size 800x500 with 2 Axes>"
      ]
     },
     "metadata": {},
     "output_type": "display_data"
    }
   ],
   "source": [
    "# | label: fig-line-resids\n",
    "# | fig-cap: The distribution of residuals of points from the linear fit is displayed on the left. The right chart displays the quantile-quantile plot of the residuals.\n",
    "fig_line_resids, (ax_resid_hist, ax_resid_qq) = plt.subplots(\n",
    "    1, 2, figsize=(base_fig_width, base_fig_height)\n",
    ")\n",
    "ax_resid_hist.hist(pol_line_results.resid)\n",
    "dist_metrics = {}\n",
    "dist_metrics[\"shape\", \"loc\", \"scale\"] = stats.norm.fit(pol_line_results.resid)\n",
    "probplot(\n",
    "    pol_line_results.resid,\n",
    "    dist=\"norm\",\n",
    "    sparams=(dist_metrics[\"shape\", \"loc\", \"scale\"]),\n",
    "    plot=ax_resid_qq,\n",
    ")\n",
    "plt.show()\n"
   ]
  },
  {
   "attachments": {},
   "cell_type": "markdown",
   "metadata": {},
   "source": [
    "The distribution is skewed left, meaning that there are more extreme outliers on the \"less polarized\" side of the fit. Due to the skewness the t-distribution critical value will be used."
   ]
  },
  {
   "attachments": {},
   "cell_type": "markdown",
   "metadata": {},
   "source": [
    "##### Calculating the root mean squared error of residuals and margin of error:"
   ]
  },
  {
   "cell_type": "code",
   "execution_count": 65,
   "metadata": {},
   "outputs": [],
   "source": [
    "pol_line_RMSE = np.sqrt(np.mean(pol_line_results.resid**2))\n",
    "pol_line_ME = stats.t.ppf((1 + 0.90) / 2, len(topic_stats) - 2) * pol_line_RMSE"
   ]
  },
  {
   "attachments": {},
   "cell_type": "markdown",
   "metadata": {},
   "source": [
    "##### Generating margin of error lines:"
   ]
  },
  {
   "cell_type": "code",
   "execution_count": 66,
   "metadata": {},
   "outputs": [],
   "source": [
    "line_er_x = np.linspace(topic_stats[\"avg_rating\"].min(), 5, 100)\n",
    "line_fit = np.polyfit(\n",
    "    topic_stats[\"avg_rating\"].values, topic_stats[\"pol_points\"].values, 1\n",
    ")\n",
    "positive_line_er_y = np.poly1d(line_fit)(line_er_x) + pol_line_ME\n",
    "negative_line_er_y = np.poly1d(line_fit)(line_er_x) - pol_line_ME"
   ]
  },
  {
   "attachments": {},
   "cell_type": "markdown",
   "metadata": {},
   "source": [
    "##### The final plot:"
   ]
  },
  {
   "cell_type": "code",
   "execution_count": 67,
   "metadata": {},
   "outputs": [
    {
     "data": {
      "application/vnd.plotly.v1+json": {
       "config": {
        "plotlyServerURL": "https://plot.ly"
       },
       "data": [
        {
         "hovertemplate": "<b>%{hovertext}</b><br><br>Average Rating=%{x}<br>Review Polarization Points=%{y}<extra></extra>",
         "hovertext": [
          "arts",
          "arts-performing-arts",
          "music",
          "arts-design",
          "education",
          "society-culture",
          "arts-visual-arts",
          "leisure",
          "leisure-hobbies",
          "arts-books",
          "technology",
          "society-culture-personal-journals",
          "society-culture-relationships",
          "fiction",
          "fiction-science-fiction",
          "arts-food",
          "education-language-learning",
          "fiction-drama",
          "true-crime",
          "health-fitness",
          "health-fitness-nutrition",
          "history",
          "comedy",
          "arts-fashion-beauty",
          "tv-film",
          "society-culture-places-travel",
          "comedy-comedy-interviews",
          "kids-family",
          "health-fitness-mental-health",
          "religion-spirituality",
          "business",
          "news",
          "news-business-news",
          "education-courses",
          "society-culture-philosophy",
          "leisure-video-games",
          "tv-film-film-reviews",
          "leisure-games",
          "spirituality",
          "tv-film-film-history",
          "business-careers",
          "business-entrepreneurship",
          "science",
          "science-earth-sciences",
          "comedy-improv",
          "tv-film-tv-reviews",
          "health-fitness-sexuality",
          "news-politics",
          "leisure-home-garden",
          "leisure-animation-manga",
          "fiction-comedy-fiction",
          "christianity",
          "government",
          "sports",
          "music-music-commentary",
          "business-marketing",
          "music-music-interviews",
          "education-how-to",
          "science-social-sciences",
          "society-culture-documentary",
          "business-management",
          "news-tech-news",
          "education-self-improvement",
          "sports-wilderness",
          "health-fitness-alternative-health",
          "health-fitness-medicine",
          "business-investing",
          "science-natural-sciences",
          "science-nature",
          "tv-film-after-shows",
          "sports-soccer",
          "leisure-automotive",
          "kids-family-pets-animals",
          "judaism",
          "religion",
          "sports-football",
          "kids-family-parenting",
          "health-fitness-fitness",
          "news-entertainment-news",
          "news-daily-news",
          "kids-family-stories-for-kids",
          "tv-film-film-interviews",
          "music-music-history",
          "science-life-sciences",
          "comedy-stand-up",
          "leisure-aviation",
          "sports-golf",
          "business-non-profit",
          "islam",
          "news-sports-news",
          "sports-basketball",
          "sports-baseball",
          "sports-fantasy-sports",
          "kids-family-education-for-kids",
          "science-astronomy",
          "science-physics",
          "sports-running",
          "sports-wrestling",
          "buddhism",
          "sports-swimming",
          "sports-tennis",
          "sports-hockey",
          "sports-volleyball",
          "sports-rugby",
          "sports-cricket",
          "news-news-commentary"
         ],
         "legendgroup": "",
         "marker": {
          "color": "#636efa",
          "symbol": "circle"
         },
         "mode": "markers",
         "name": "",
         "orientation": "v",
         "showlegend": false,
         "type": "scatter",
         "x": [
          4.727781521962083,
          4.703887646362321,
          4.766756483664533,
          4.8113667691655175,
          4.813993535619458,
          4.546983981859082,
          4.822154105060704,
          4.759590405264981,
          4.7891896414675985,
          4.681932512331363,
          4.529647904992891,
          4.735194932865444,
          4.4666236142503495,
          4.603626711205226,
          4.565837410221714,
          4.781106547475235,
          4.668225172994203,
          4.537887212073074,
          4.1638572746847125,
          4.788055762721588,
          4.880982481488171,
          4.522414026079319,
          4.623423818861729,
          4.6497156239545,
          4.518006061854456,
          4.759043974294173,
          4.675124707319556,
          4.745690063016862,
          4.835223950415156,
          4.832466088806749,
          4.839409561074062,
          4.301109929549382,
          4.614394580863675,
          4.764462809917355,
          4.769980621293088,
          4.704959656942956,
          4.752083702784182,
          4.776599837558244,
          4.85644354351764,
          4.671958529078244,
          4.89006138610189,
          4.9083771590937415,
          4.524381533666645,
          4.721689059500959,
          4.744599079951086,
          4.552321552321552,
          4.476195393989466,
          4.205813564984965,
          4.823933975240715,
          4.810429114611624,
          4.834667790420003,
          4.823247356412365,
          4.43010266675276,
          4.612250937629831,
          4.823374050841862,
          4.937095153971388,
          4.799818080044781,
          4.800638451240861,
          4.420597355965399,
          4.313421405322612,
          4.867669814844459,
          4.409090909090909,
          4.876771096853628,
          4.7996786779894425,
          4.790271560728141,
          4.803187120092,
          4.681912782537148,
          4.4763779527559056,
          4.800247754722824,
          4.391995291347851,
          4.711517952364024,
          4.702031877357343,
          4.855482566953007,
          4.778606965174129,
          4.818252730109204,
          4.6511601963409195,
          4.796848574846347,
          4.861337554412347,
          4.654456654456655,
          3.9652029274783764,
          4.735020163448842,
          4.773748128431209,
          4.752938465084121,
          4.619645494830133,
          4.816260439747742,
          4.82992125984252,
          4.779472044597475,
          4.901167315175098,
          4.824821852731591,
          4.479803462263612,
          4.61247574161353,
          4.648123393316196,
          4.628656420426376,
          4.713295579410024,
          4.522222222222222,
          4.635775862068965,
          4.891992853662498,
          4.578386605783866,
          4.773038842345773,
          4.892307692307693,
          4.567986230636833,
          4.546756756756757,
          4.864077669902913,
          4.9880239520958085,
          4.7976190476190474,
          4.492889258950874
         ],
         "xaxis": "x",
         "y": [
          1.9067014387435168,
          1.894454677016182,
          1.918491074435837,
          1.9224896617537908,
          1.9407206386844038,
          1.8777479552994745,
          1.9257723284048565,
          1.9186872185659853,
          1.929423084968414,
          1.8861594747329566,
          1.8603328594128963,
          1.9152325132838068,
          1.887073512000861,
          1.8524859077216738,
          1.8139897991048195,
          1.9267939115728436,
          1.8761922573405647,
          1.8141382049245434,
          1.7755828975699786,
          1.9346681200160634,
          1.9529980133646379,
          1.8482028241335045,
          1.9088123631886174,
          1.899297423887588,
          1.8712650442868493,
          1.9197776012708498,
          1.923063218975873,
          1.9080767556724638,
          1.9459322496394185,
          1.952984662388412,
          1.9514710992426731,
          1.83790819265364,
          1.8775613886536833,
          1.9147065056155965,
          1.9372247342768218,
          1.903910173221238,
          1.9235680085121476,
          1.9210020091480358,
          1.9555550763391703,
          1.8783411631297586,
          1.9583835611357356,
          1.9734802223274595,
          1.8660476592429063,
          1.9251439539347408,
          1.9459616840388982,
          1.875061875061875,
          1.8645048022307136,
          1.8248830604744404,
          1.9334250343878954,
          1.9255839217816404,
          1.935243714004776,
          1.953683649714504,
          1.8560082649964487,
          1.8986790659556425,
          1.944206008583691,
          1.9724271710138903,
          1.9377973691575707,
          1.9349191638348264,
          1.8451118002284967,
          1.799604314251069,
          1.95080305213169,
          1.8328909533289095,
          1.9642077317455584,
          1.9348175350011476,
          1.932676812891674,
          1.9295219319862,
          1.9151541551715794,
          1.8498031496062992,
          1.9327965314338804,
          1.8610211889346675,
          1.9177035193743335,
          1.9020562112179098,
          1.9494694290045478,
          1.954868514570007,
          1.937857514300572,
          1.8993752788933511,
          1.9453450480551087,
          1.9553620894341115,
          1.91937181592354,
          1.7389886892880906,
          1.8906891260126333,
          1.940109798702379,
          1.9138050241991242,
          1.9194977843426884,
          1.9628430202829386,
          1.9181102362204725,
          1.9355632070831283,
          1.9735408560311285,
          1.950712589073634,
          1.8656801691138662,
          1.9001386193512615,
          1.8947043701799486,
          1.8907017622932347,
          1.8803144281971094,
          1.8797979797979798,
          1.8771551724137931,
          1.9546857235666721,
          1.908675799086758,
          1.8994668697638994,
          1.9538461538461538,
          1.8158347676419966,
          1.8786486486486487,
          1.9029126213592233,
          1.9880239520958083,
          1.8928571428571428,
          1.8904912572855954
         ],
         "yaxis": "y"
        },
        {
         "hovertemplate": "<b>OLS trendline</b><br>pol_points = 0.233787 * avg_rating + 0.809908<br>R<sup>2</sup>=0.832895<br><br>Average Rating=%{x}<br>Review Polarization Points=%{y} <b>(trend)</b><extra></extra>",
         "legendgroup": "",
         "marker": {
          "color": "#636efa",
          "symbol": "circle"
         },
         "mode": "lines",
         "name": "",
         "showlegend": false,
         "type": "scatter",
         "x": [
          3.9652029274783764,
          4.1638572746847125,
          4.205813564984965,
          4.301109929549382,
          4.313421405322612,
          4.391995291347851,
          4.409090909090909,
          4.420597355965399,
          4.43010266675276,
          4.4666236142503495,
          4.476195393989466,
          4.4763779527559056,
          4.479803462263612,
          4.492889258950874,
          4.518006061854456,
          4.522222222222222,
          4.522414026079319,
          4.524381533666645,
          4.529647904992891,
          4.537887212073074,
          4.546756756756757,
          4.546983981859082,
          4.552321552321552,
          4.565837410221714,
          4.567986230636833,
          4.578386605783866,
          4.603626711205226,
          4.612250937629831,
          4.61247574161353,
          4.614394580863675,
          4.619645494830133,
          4.623423818861729,
          4.628656420426376,
          4.635775862068965,
          4.648123393316196,
          4.6497156239545,
          4.6511601963409195,
          4.654456654456655,
          4.668225172994203,
          4.671958529078244,
          4.675124707319556,
          4.681912782537148,
          4.681932512331363,
          4.702031877357343,
          4.703887646362321,
          4.704959656942956,
          4.711517952364024,
          4.713295579410024,
          4.721689059500959,
          4.727781521962083,
          4.735020163448842,
          4.735194932865444,
          4.744599079951086,
          4.745690063016862,
          4.752083702784182,
          4.752938465084121,
          4.759043974294173,
          4.759590405264981,
          4.764462809917355,
          4.766756483664533,
          4.769980621293088,
          4.773038842345773,
          4.773748128431209,
          4.776599837558244,
          4.778606965174129,
          4.779472044597475,
          4.781106547475235,
          4.788055762721588,
          4.7891896414675985,
          4.790271560728141,
          4.796848574846347,
          4.7976190476190474,
          4.7996786779894425,
          4.799818080044781,
          4.800247754722824,
          4.800638451240861,
          4.803187120092,
          4.810429114611624,
          4.8113667691655175,
          4.813993535619458,
          4.816260439747742,
          4.818252730109204,
          4.822154105060704,
          4.823247356412365,
          4.823374050841862,
          4.823933975240715,
          4.824821852731591,
          4.82992125984252,
          4.832466088806749,
          4.834667790420003,
          4.835223950415156,
          4.839409561074062,
          4.855482566953007,
          4.85644354351764,
          4.861337554412347,
          4.864077669902913,
          4.867669814844459,
          4.876771096853628,
          4.880982481488171,
          4.89006138610189,
          4.891992853662498,
          4.892307692307693,
          4.901167315175098,
          4.9083771590937415,
          4.937095153971388,
          4.9880239520958085
         ],
         "xaxis": "x",
         "y": [
          1.7369210700751578,
          1.7833638662914266,
          1.7931726999152953,
          1.8154517474259926,
          1.8183300099382331,
          1.836699560003001,
          1.840696292529611,
          1.8433863497817193,
          1.845608567508529,
          1.8541466888540128,
          1.8563844461550854,
          1.8564271260143812,
          1.857227965473676,
          1.8602872541196114,
          1.8661592351522927,
          1.8671449184737448,
          1.8671897597146936,
          1.8676497373352048,
          1.8688809462855431,
          1.8708071888524411,
          1.8728807727536658,
          1.8729338950199084,
          1.8741817493999637,
          1.877341580750109,
          1.8778439469457056,
          1.8802754190494833,
          1.8861762266031374,
          1.888192458293979,
          1.8882450145342544,
          1.8886936141320962,
          1.8899212093532571,
          1.8908045322480551,
          1.8920278462684395,
          1.8936922788974266,
          1.8965789707093783,
          1.8969512134722677,
          1.897288935661113,
          1.8980596045876053,
          1.9012785047004483,
          1.9021513146754239,
          1.902891525865934,
          1.9044784893452877,
          1.9044831019139277,
          1.9091820713908374,
          1.9096159259877024,
          1.9098665480840131,
          1.9113997920429302,
          1.9118153780686424,
          1.913777664275265,
          1.915202002561924,
          1.9168943025602874,
          1.916935161371153,
          1.9191337283435264,
          1.9193887859594898,
          1.9208835355734284,
          1.9210833678543107,
          1.9225107563007586,
          1.9226385047370773,
          1.9237776094158106,
          1.9243138404317677,
          1.9250676017713102,
          1.9257825739787224,
          1.9259483958174497,
          1.926615088229257,
          1.927084328495858,
          1.927286572785673,
          1.927668698246979,
          1.9292933341640282,
          1.9295584202307339,
          1.9298113588472126,
          1.9313489789934564,
          1.9315291054818817,
          1.9320106202079286,
          1.932043210590869,
          1.9321436629282696,
          1.9322350026800783,
          1.9328308482265806,
          1.9345239321203094,
          1.934743143529373,
          1.9353572472771323,
          1.9358872199052286,
          1.9363529914152018,
          1.93726508201067,
          1.9375206699222982,
          1.9375502894280054,
          1.9376811924518667,
          1.9378887666326166,
          1.9390809415263814,
          1.9396758893573907,
          1.9401906184876179,
          1.9403206414429763,
          1.9412991826408201,
          1.9450568418469556,
          1.9452815056380457,
          1.9464256615745226,
          1.9470662648491401,
          1.9479060615001855,
          1.9500338225665952,
          1.9510183893838882,
          1.95314091890701,
          1.9535924708391832,
          1.953666076009397,
          1.9557373403193417,
          1.9574229078217578,
          1.9641368005837272,
          1.9760432895485784
         ],
         "yaxis": "y"
        },
        {
         "hovertemplate": "x=%{x}<br>y=%{y}<extra></extra>",
         "legendgroup": "",
         "line": {
          "color": "grey",
          "dash": "dash"
         },
         "marker": {
          "symbol": "circle"
         },
         "mode": "lines",
         "name": "",
         "orientation": "v",
         "showlegend": false,
         "type": "scatter",
         "x": [
          3.9652029274783764,
          3.975655423160413,
          3.9861079188424497,
          3.9965604145244864,
          4.007012910206523,
          4.01746540588856,
          4.027917901570596,
          4.038370397252633,
          4.04882289293467,
          4.0592753886167054,
          4.069727884298742,
          4.080180379980779,
          4.090632875662815,
          4.101085371344852,
          4.111537867026889,
          4.121990362708925,
          4.132442858390962,
          4.142895354072999,
          4.153347849755035,
          4.163800345437072,
          4.174252841119109,
          4.184705336801145,
          4.195157832483182,
          4.205610328165219,
          4.216062823847255,
          4.226515319529291,
          4.236967815211328,
          4.247420310893364,
          4.257872806575401,
          4.268325302257438,
          4.278777797939474,
          4.289230293621511,
          4.299682789303548,
          4.310135284985584,
          4.320587780667621,
          4.331040276349658,
          4.341492772031694,
          4.351945267713731,
          4.362397763395768,
          4.372850259077804,
          4.383302754759841,
          4.3937552504418775,
          4.404207746123913,
          4.41466024180595,
          4.425112737487987,
          4.435565233170023,
          4.44601772885206,
          4.456470224534097,
          4.466922720216133,
          4.47737521589817,
          4.4878277115802065,
          4.498280207262243,
          4.50873270294428,
          4.5191851986263165,
          4.529637694308353,
          4.54009018999039,
          4.5505426856724265,
          4.560995181354462,
          4.571447677036499,
          4.581900172718536,
          4.592352668400572,
          4.602805164082609,
          4.6132576597646455,
          4.623710155446682,
          4.634162651128719,
          4.6446151468107555,
          4.655067642492792,
          4.665520138174829,
          4.6759726338568655,
          4.686425129538902,
          4.696877625220939,
          4.707330120902975,
          4.717782616585012,
          4.728235112267049,
          4.738687607949085,
          4.749140103631122,
          4.759592599313158,
          4.7700450949951945,
          4.780497590677231,
          4.790950086359268,
          4.801402582041304,
          4.811855077723341,
          4.822307573405378,
          4.832760069087414,
          4.843212564769451,
          4.853665060451488,
          4.864117556133524,
          4.874570051815561,
          4.885022547497598,
          4.895475043179634,
          4.90592753886167,
          4.916380034543707,
          4.926832530225743,
          4.93728502590778,
          4.947737521589817,
          4.958190017271853,
          4.96864251295389,
          4.979095008635927,
          4.989547504317963,
          5
         ],
         "xaxis": "x",
         "y": [
          1.7672861008864253,
          1.769729758091712,
          1.7721734152969986,
          1.774617072502285,
          1.7770607297075713,
          1.779504386912858,
          1.7819480441181446,
          1.7843917013234312,
          1.7868353585287178,
          1.789279015734004,
          1.7917226729392906,
          1.7941663301445772,
          1.7966099873498638,
          1.7990536445551502,
          1.8014973017604365,
          1.8039409589657232,
          1.8063846161710098,
          1.8088282733762964,
          1.811271930581583,
          1.8137155877868694,
          1.816159244992156,
          1.8186029021974424,
          1.821046559402729,
          1.8234902166080156,
          1.8259338738133022,
          1.8283775310185884,
          1.830821188223875,
          1.8332648454291616,
          1.8357085026344482,
          1.8381521598397346,
          1.840595817045021,
          1.8430394742503076,
          1.8454831314555942,
          1.8479267886608808,
          1.8503704458661674,
          1.852814103071454,
          1.8552577602767406,
          1.8577014174820268,
          1.8601450746873134,
          1.8625887318926,
          1.8650323890978866,
          1.8674760463031732,
          1.8699197035084594,
          1.872363360713746,
          1.8748070179190326,
          1.8772506751243192,
          1.8796943323296058,
          1.882137989534892,
          1.8845816467401786,
          1.8870253039454652,
          1.8894689611507518,
          1.8919126183560384,
          1.894356275561325,
          1.8967999327666112,
          1.8992435899718978,
          1.9016872471771844,
          1.904130904382471,
          1.9065745615877572,
          1.9090182187930438,
          1.9114618759983304,
          1.913905533203617,
          1.9163491904089036,
          1.9187928476141902,
          1.9212365048194764,
          1.923680162024763,
          1.9261238192300496,
          1.9285674764353362,
          1.9310111336406228,
          1.9334547908459094,
          1.9358984480511956,
          1.9383421052564822,
          1.9407857624617688,
          1.9432294196670554,
          1.945673076872342,
          1.9481167340776286,
          1.9505603912829153,
          1.9530040484882014,
          1.955447705693488,
          1.9578913628987746,
          1.9603350201040608,
          1.9627786773093474,
          1.965222334514634,
          1.9676659917199206,
          1.9701096489252072,
          1.9725533061304938,
          1.9749969633357805,
          1.9774406205410666,
          1.9798842777463532,
          1.9823279349516398,
          1.9847715921569264,
          1.9872152493622126,
          1.9896589065674992,
          1.9921025637727858,
          1.9945462209780724,
          1.996989878183359,
          1.9994335353886457,
          2.001877192593932,
          2.0043208497992184,
          2.006764507004505,
          2.0092081642097916
         ],
         "yaxis": "y"
        },
        {
         "hovertemplate": "x=%{x}<br>y=%{y}<extra></extra>",
         "legendgroup": "",
         "line": {
          "color": "grey",
          "dash": "dash"
         },
         "marker": {
          "symbol": "circle"
         },
         "mode": "lines",
         "name": "",
         "orientation": "v",
         "showlegend": false,
         "type": "scatter",
         "x": [
          3.9652029274783764,
          3.975655423160413,
          3.9861079188424497,
          3.9965604145244864,
          4.007012910206523,
          4.01746540588856,
          4.027917901570596,
          4.038370397252633,
          4.04882289293467,
          4.0592753886167054,
          4.069727884298742,
          4.080180379980779,
          4.090632875662815,
          4.101085371344852,
          4.111537867026889,
          4.121990362708925,
          4.132442858390962,
          4.142895354072999,
          4.153347849755035,
          4.163800345437072,
          4.174252841119109,
          4.184705336801145,
          4.195157832483182,
          4.205610328165219,
          4.216062823847255,
          4.226515319529291,
          4.236967815211328,
          4.247420310893364,
          4.257872806575401,
          4.268325302257438,
          4.278777797939474,
          4.289230293621511,
          4.299682789303548,
          4.310135284985584,
          4.320587780667621,
          4.331040276349658,
          4.341492772031694,
          4.351945267713731,
          4.362397763395768,
          4.372850259077804,
          4.383302754759841,
          4.3937552504418775,
          4.404207746123913,
          4.41466024180595,
          4.425112737487987,
          4.435565233170023,
          4.44601772885206,
          4.456470224534097,
          4.466922720216133,
          4.47737521589817,
          4.4878277115802065,
          4.498280207262243,
          4.50873270294428,
          4.5191851986263165,
          4.529637694308353,
          4.54009018999039,
          4.5505426856724265,
          4.560995181354462,
          4.571447677036499,
          4.581900172718536,
          4.592352668400572,
          4.602805164082609,
          4.6132576597646455,
          4.623710155446682,
          4.634162651128719,
          4.6446151468107555,
          4.655067642492792,
          4.665520138174829,
          4.6759726338568655,
          4.686425129538902,
          4.696877625220939,
          4.707330120902975,
          4.717782616585012,
          4.728235112267049,
          4.738687607949085,
          4.749140103631122,
          4.759592599313158,
          4.7700450949951945,
          4.780497590677231,
          4.790950086359268,
          4.801402582041304,
          4.811855077723341,
          4.822307573405378,
          4.832760069087414,
          4.843212564769451,
          4.853665060451488,
          4.864117556133524,
          4.874570051815561,
          4.885022547497598,
          4.895475043179634,
          4.90592753886167,
          4.916380034543707,
          4.926832530225743,
          4.93728502590778,
          4.947737521589817,
          4.958190017271853,
          4.96864251295389,
          4.979095008635927,
          4.989547504317963,
          5
         ],
         "xaxis": "x",
         "y": [
          1.7065560392638948,
          1.7089996964691814,
          1.711443353674468,
          1.7138870108797544,
          1.7163306680850408,
          1.7187743252903274,
          1.721217982495614,
          1.7236616397009006,
          1.7261052969061872,
          1.7285489541114734,
          1.73099261131676,
          1.7334362685220466,
          1.7358799257273332,
          1.7383235829326196,
          1.740767240137906,
          1.7432108973431926,
          1.7456545545484792,
          1.7480982117537658,
          1.7505418689590524,
          1.7529855261643388,
          1.7554291833696254,
          1.7578728405749118,
          1.7603164977801984,
          1.762760154985485,
          1.7652038121907716,
          1.7676474693960578,
          1.7700911266013444,
          1.772534783806631,
          1.7749784410119176,
          1.777422098217204,
          1.7798657554224904,
          1.782309412627777,
          1.7847530698330636,
          1.7871967270383502,
          1.7896403842436368,
          1.7920840414489234,
          1.79452769865421,
          1.7969713558594962,
          1.7994150130647828,
          1.8018586702700694,
          1.804302327475356,
          1.8067459846806426,
          1.8091896418859288,
          1.8116332990912154,
          1.814076956296502,
          1.8165206135017886,
          1.8189642707070752,
          1.8214079279123614,
          1.823851585117648,
          1.8262952423229346,
          1.8287388995282212,
          1.8311825567335078,
          1.8336262139387944,
          1.8360698711440806,
          1.8385135283493672,
          1.8409571855546538,
          1.8434008427599404,
          1.8458444999652266,
          1.8482881571705132,
          1.8507318143757998,
          1.8531754715810864,
          1.855619128786373,
          1.8580627859916596,
          1.8605064431969458,
          1.8629501004022324,
          1.865393757607519,
          1.8678374148128056,
          1.8702810720180922,
          1.8727247292233788,
          1.875168386428665,
          1.8776120436339516,
          1.8800557008392382,
          1.8824993580445248,
          1.8849430152498114,
          1.887386672455098,
          1.8898303296603847,
          1.8922739868656708,
          1.8947176440709574,
          1.897161301276244,
          1.8996049584815302,
          1.9020486156868168,
          1.9044922728921034,
          1.90693593009739,
          1.9093795873026767,
          1.9118232445079633,
          1.9142669017132499,
          1.916710558918536,
          1.9191542161238226,
          1.9215978733291093,
          1.9240415305343959,
          1.926485187739682,
          1.9289288449449686,
          1.9313725021502552,
          1.9338161593555419,
          1.9362598165608285,
          1.938703473766115,
          1.9411471309714012,
          1.9435907881766878,
          1.9460344453819745,
          1.948478102587261
         ],
         "yaxis": "y"
        }
       ],
       "layout": {
        "height": 511.1949685534591,
        "legend": {
         "tracegroupgap": 0
        },
        "margin": {
         "b": 30,
         "l": 65,
         "r": 10,
         "t": 25
        },
        "template": {
         "data": {
          "bar": [
           {
            "error_x": {
             "color": "#2a3f5f"
            },
            "error_y": {
             "color": "#2a3f5f"
            },
            "marker": {
             "line": {
              "color": "#E5ECF6",
              "width": 0.5
             },
             "pattern": {
              "fillmode": "overlay",
              "size": 10,
              "solidity": 0.2
             }
            },
            "type": "bar"
           }
          ],
          "barpolar": [
           {
            "marker": {
             "line": {
              "color": "#E5ECF6",
              "width": 0.5
             },
             "pattern": {
              "fillmode": "overlay",
              "size": 10,
              "solidity": 0.2
             }
            },
            "type": "barpolar"
           }
          ],
          "carpet": [
           {
            "aaxis": {
             "endlinecolor": "#2a3f5f",
             "gridcolor": "white",
             "linecolor": "white",
             "minorgridcolor": "white",
             "startlinecolor": "#2a3f5f"
            },
            "baxis": {
             "endlinecolor": "#2a3f5f",
             "gridcolor": "white",
             "linecolor": "white",
             "minorgridcolor": "white",
             "startlinecolor": "#2a3f5f"
            },
            "type": "carpet"
           }
          ],
          "choropleth": [
           {
            "colorbar": {
             "outlinewidth": 0,
             "ticks": ""
            },
            "type": "choropleth"
           }
          ],
          "contour": [
           {
            "colorbar": {
             "outlinewidth": 0,
             "ticks": ""
            },
            "colorscale": [
             [
              0,
              "#0d0887"
             ],
             [
              0.1111111111111111,
              "#46039f"
             ],
             [
              0.2222222222222222,
              "#7201a8"
             ],
             [
              0.3333333333333333,
              "#9c179e"
             ],
             [
              0.4444444444444444,
              "#bd3786"
             ],
             [
              0.5555555555555556,
              "#d8576b"
             ],
             [
              0.6666666666666666,
              "#ed7953"
             ],
             [
              0.7777777777777778,
              "#fb9f3a"
             ],
             [
              0.8888888888888888,
              "#fdca26"
             ],
             [
              1,
              "#f0f921"
             ]
            ],
            "type": "contour"
           }
          ],
          "contourcarpet": [
           {
            "colorbar": {
             "outlinewidth": 0,
             "ticks": ""
            },
            "type": "contourcarpet"
           }
          ],
          "heatmap": [
           {
            "colorbar": {
             "outlinewidth": 0,
             "ticks": ""
            },
            "colorscale": [
             [
              0,
              "#0d0887"
             ],
             [
              0.1111111111111111,
              "#46039f"
             ],
             [
              0.2222222222222222,
              "#7201a8"
             ],
             [
              0.3333333333333333,
              "#9c179e"
             ],
             [
              0.4444444444444444,
              "#bd3786"
             ],
             [
              0.5555555555555556,
              "#d8576b"
             ],
             [
              0.6666666666666666,
              "#ed7953"
             ],
             [
              0.7777777777777778,
              "#fb9f3a"
             ],
             [
              0.8888888888888888,
              "#fdca26"
             ],
             [
              1,
              "#f0f921"
             ]
            ],
            "type": "heatmap"
           }
          ],
          "heatmapgl": [
           {
            "colorbar": {
             "outlinewidth": 0,
             "ticks": ""
            },
            "colorscale": [
             [
              0,
              "#0d0887"
             ],
             [
              0.1111111111111111,
              "#46039f"
             ],
             [
              0.2222222222222222,
              "#7201a8"
             ],
             [
              0.3333333333333333,
              "#9c179e"
             ],
             [
              0.4444444444444444,
              "#bd3786"
             ],
             [
              0.5555555555555556,
              "#d8576b"
             ],
             [
              0.6666666666666666,
              "#ed7953"
             ],
             [
              0.7777777777777778,
              "#fb9f3a"
             ],
             [
              0.8888888888888888,
              "#fdca26"
             ],
             [
              1,
              "#f0f921"
             ]
            ],
            "type": "heatmapgl"
           }
          ],
          "histogram": [
           {
            "marker": {
             "pattern": {
              "fillmode": "overlay",
              "size": 10,
              "solidity": 0.2
             }
            },
            "type": "histogram"
           }
          ],
          "histogram2d": [
           {
            "colorbar": {
             "outlinewidth": 0,
             "ticks": ""
            },
            "colorscale": [
             [
              0,
              "#0d0887"
             ],
             [
              0.1111111111111111,
              "#46039f"
             ],
             [
              0.2222222222222222,
              "#7201a8"
             ],
             [
              0.3333333333333333,
              "#9c179e"
             ],
             [
              0.4444444444444444,
              "#bd3786"
             ],
             [
              0.5555555555555556,
              "#d8576b"
             ],
             [
              0.6666666666666666,
              "#ed7953"
             ],
             [
              0.7777777777777778,
              "#fb9f3a"
             ],
             [
              0.8888888888888888,
              "#fdca26"
             ],
             [
              1,
              "#f0f921"
             ]
            ],
            "type": "histogram2d"
           }
          ],
          "histogram2dcontour": [
           {
            "colorbar": {
             "outlinewidth": 0,
             "ticks": ""
            },
            "colorscale": [
             [
              0,
              "#0d0887"
             ],
             [
              0.1111111111111111,
              "#46039f"
             ],
             [
              0.2222222222222222,
              "#7201a8"
             ],
             [
              0.3333333333333333,
              "#9c179e"
             ],
             [
              0.4444444444444444,
              "#bd3786"
             ],
             [
              0.5555555555555556,
              "#d8576b"
             ],
             [
              0.6666666666666666,
              "#ed7953"
             ],
             [
              0.7777777777777778,
              "#fb9f3a"
             ],
             [
              0.8888888888888888,
              "#fdca26"
             ],
             [
              1,
              "#f0f921"
             ]
            ],
            "type": "histogram2dcontour"
           }
          ],
          "mesh3d": [
           {
            "colorbar": {
             "outlinewidth": 0,
             "ticks": ""
            },
            "type": "mesh3d"
           }
          ],
          "parcoords": [
           {
            "line": {
             "colorbar": {
              "outlinewidth": 0,
              "ticks": ""
             }
            },
            "type": "parcoords"
           }
          ],
          "pie": [
           {
            "automargin": true,
            "type": "pie"
           }
          ],
          "scatter": [
           {
            "fillpattern": {
             "fillmode": "overlay",
             "size": 10,
             "solidity": 0.2
            },
            "type": "scatter"
           }
          ],
          "scatter3d": [
           {
            "line": {
             "colorbar": {
              "outlinewidth": 0,
              "ticks": ""
             }
            },
            "marker": {
             "colorbar": {
              "outlinewidth": 0,
              "ticks": ""
             }
            },
            "type": "scatter3d"
           }
          ],
          "scattercarpet": [
           {
            "marker": {
             "colorbar": {
              "outlinewidth": 0,
              "ticks": ""
             }
            },
            "type": "scattercarpet"
           }
          ],
          "scattergeo": [
           {
            "marker": {
             "colorbar": {
              "outlinewidth": 0,
              "ticks": ""
             }
            },
            "type": "scattergeo"
           }
          ],
          "scattergl": [
           {
            "marker": {
             "colorbar": {
              "outlinewidth": 0,
              "ticks": ""
             }
            },
            "type": "scattergl"
           }
          ],
          "scattermapbox": [
           {
            "marker": {
             "colorbar": {
              "outlinewidth": 0,
              "ticks": ""
             }
            },
            "type": "scattermapbox"
           }
          ],
          "scatterpolar": [
           {
            "marker": {
             "colorbar": {
              "outlinewidth": 0,
              "ticks": ""
             }
            },
            "type": "scatterpolar"
           }
          ],
          "scatterpolargl": [
           {
            "marker": {
             "colorbar": {
              "outlinewidth": 0,
              "ticks": ""
             }
            },
            "type": "scatterpolargl"
           }
          ],
          "scatterternary": [
           {
            "marker": {
             "colorbar": {
              "outlinewidth": 0,
              "ticks": ""
             }
            },
            "type": "scatterternary"
           }
          ],
          "surface": [
           {
            "colorbar": {
             "outlinewidth": 0,
             "ticks": ""
            },
            "colorscale": [
             [
              0,
              "#0d0887"
             ],
             [
              0.1111111111111111,
              "#46039f"
             ],
             [
              0.2222222222222222,
              "#7201a8"
             ],
             [
              0.3333333333333333,
              "#9c179e"
             ],
             [
              0.4444444444444444,
              "#bd3786"
             ],
             [
              0.5555555555555556,
              "#d8576b"
             ],
             [
              0.6666666666666666,
              "#ed7953"
             ],
             [
              0.7777777777777778,
              "#fb9f3a"
             ],
             [
              0.8888888888888888,
              "#fdca26"
             ],
             [
              1,
              "#f0f921"
             ]
            ],
            "type": "surface"
           }
          ],
          "table": [
           {
            "cells": {
             "fill": {
              "color": "#EBF0F8"
             },
             "line": {
              "color": "white"
             }
            },
            "header": {
             "fill": {
              "color": "#C8D4E3"
             },
             "line": {
              "color": "white"
             }
            },
            "type": "table"
           }
          ]
         },
         "layout": {
          "annotationdefaults": {
           "arrowcolor": "#2a3f5f",
           "arrowhead": 0,
           "arrowwidth": 1
          },
          "autotypenumbers": "strict",
          "coloraxis": {
           "colorbar": {
            "outlinewidth": 0,
            "ticks": ""
           }
          },
          "colorscale": {
           "diverging": [
            [
             0,
             "#8e0152"
            ],
            [
             0.1,
             "#c51b7d"
            ],
            [
             0.2,
             "#de77ae"
            ],
            [
             0.3,
             "#f1b6da"
            ],
            [
             0.4,
             "#fde0ef"
            ],
            [
             0.5,
             "#f7f7f7"
            ],
            [
             0.6,
             "#e6f5d0"
            ],
            [
             0.7,
             "#b8e186"
            ],
            [
             0.8,
             "#7fbc41"
            ],
            [
             0.9,
             "#4d9221"
            ],
            [
             1,
             "#276419"
            ]
           ],
           "sequential": [
            [
             0,
             "#0d0887"
            ],
            [
             0.1111111111111111,
             "#46039f"
            ],
            [
             0.2222222222222222,
             "#7201a8"
            ],
            [
             0.3333333333333333,
             "#9c179e"
            ],
            [
             0.4444444444444444,
             "#bd3786"
            ],
            [
             0.5555555555555556,
             "#d8576b"
            ],
            [
             0.6666666666666666,
             "#ed7953"
            ],
            [
             0.7777777777777778,
             "#fb9f3a"
            ],
            [
             0.8888888888888888,
             "#fdca26"
            ],
            [
             1,
             "#f0f921"
            ]
           ],
           "sequentialminus": [
            [
             0,
             "#0d0887"
            ],
            [
             0.1111111111111111,
             "#46039f"
            ],
            [
             0.2222222222222222,
             "#7201a8"
            ],
            [
             0.3333333333333333,
             "#9c179e"
            ],
            [
             0.4444444444444444,
             "#bd3786"
            ],
            [
             0.5555555555555556,
             "#d8576b"
            ],
            [
             0.6666666666666666,
             "#ed7953"
            ],
            [
             0.7777777777777778,
             "#fb9f3a"
            ],
            [
             0.8888888888888888,
             "#fdca26"
            ],
            [
             1,
             "#f0f921"
            ]
           ]
          },
          "colorway": [
           "#636efa",
           "#EF553B",
           "#00cc96",
           "#ab63fa",
           "#FFA15A",
           "#19d3f3",
           "#FF6692",
           "#B6E880",
           "#FF97FF",
           "#FECB52"
          ],
          "font": {
           "color": "#2a3f5f"
          },
          "geo": {
           "bgcolor": "white",
           "lakecolor": "white",
           "landcolor": "#E5ECF6",
           "showlakes": true,
           "showland": true,
           "subunitcolor": "white"
          },
          "hoverlabel": {
           "align": "left"
          },
          "hovermode": "closest",
          "mapbox": {
           "style": "light"
          },
          "paper_bgcolor": "white",
          "plot_bgcolor": "#E5ECF6",
          "polar": {
           "angularaxis": {
            "gridcolor": "white",
            "linecolor": "white",
            "ticks": ""
           },
           "bgcolor": "#E5ECF6",
           "radialaxis": {
            "gridcolor": "white",
            "linecolor": "white",
            "ticks": ""
           }
          },
          "scene": {
           "xaxis": {
            "backgroundcolor": "#E5ECF6",
            "gridcolor": "white",
            "gridwidth": 2,
            "linecolor": "white",
            "showbackground": true,
            "ticks": "",
            "zerolinecolor": "white"
           },
           "yaxis": {
            "backgroundcolor": "#E5ECF6",
            "gridcolor": "white",
            "gridwidth": 2,
            "linecolor": "white",
            "showbackground": true,
            "ticks": "",
            "zerolinecolor": "white"
           },
           "zaxis": {
            "backgroundcolor": "#E5ECF6",
            "gridcolor": "white",
            "gridwidth": 2,
            "linecolor": "white",
            "showbackground": true,
            "ticks": "",
            "zerolinecolor": "white"
           }
          },
          "shapedefaults": {
           "line": {
            "color": "#2a3f5f"
           }
          },
          "ternary": {
           "aaxis": {
            "gridcolor": "white",
            "linecolor": "white",
            "ticks": ""
           },
           "baxis": {
            "gridcolor": "white",
            "linecolor": "white",
            "ticks": ""
           },
           "bgcolor": "#E5ECF6",
           "caxis": {
            "gridcolor": "white",
            "linecolor": "white",
            "ticks": ""
           }
          },
          "title": {
           "x": 0.05
          },
          "xaxis": {
           "automargin": true,
           "gridcolor": "white",
           "linecolor": "white",
           "ticks": "",
           "title": {
            "standoff": 15
           },
           "zerolinecolor": "white",
           "zerolinewidth": 2
          },
          "yaxis": {
           "automargin": true,
           "gridcolor": "white",
           "linecolor": "white",
           "ticks": "",
           "title": {
            "standoff": 15
           },
           "zerolinecolor": "white",
           "zerolinewidth": 2
          }
         }
        },
        "width": 817.9119496855345,
        "xaxis": {
         "anchor": "y",
         "domain": [
          0,
          1
         ],
         "title": {
          "text": "Average Rating"
         }
        },
        "yaxis": {
         "anchor": "x",
         "domain": [
          0,
          1
         ],
         "title": {
          "text": "Review Polarization Points"
         }
        }
       }
      },
      "text/html": [
       "<div>                            <div id=\"3e1593d2-e867-464d-8fea-220132304fd5\" class=\"plotly-graph-div\" style=\"height:511.1949685534591px; width:817.9119496855345px;\"></div>            <script type=\"text/javascript\">                require([\"plotly\"], function(Plotly) {                    window.PLOTLYENV=window.PLOTLYENV || {};                                    if (document.getElementById(\"3e1593d2-e867-464d-8fea-220132304fd5\")) {                    Plotly.newPlot(                        \"3e1593d2-e867-464d-8fea-220132304fd5\",                        [{\"hovertemplate\":\"<b>%{hovertext}</b><br><br>Average Rating=%{x}<br>Review Polarization Points=%{y}<extra></extra>\",\"hovertext\":[\"arts\",\"arts-performing-arts\",\"music\",\"arts-design\",\"education\",\"society-culture\",\"arts-visual-arts\",\"leisure\",\"leisure-hobbies\",\"arts-books\",\"technology\",\"society-culture-personal-journals\",\"society-culture-relationships\",\"fiction\",\"fiction-science-fiction\",\"arts-food\",\"education-language-learning\",\"fiction-drama\",\"true-crime\",\"health-fitness\",\"health-fitness-nutrition\",\"history\",\"comedy\",\"arts-fashion-beauty\",\"tv-film\",\"society-culture-places-travel\",\"comedy-comedy-interviews\",\"kids-family\",\"health-fitness-mental-health\",\"religion-spirituality\",\"business\",\"news\",\"news-business-news\",\"education-courses\",\"society-culture-philosophy\",\"leisure-video-games\",\"tv-film-film-reviews\",\"leisure-games\",\"spirituality\",\"tv-film-film-history\",\"business-careers\",\"business-entrepreneurship\",\"science\",\"science-earth-sciences\",\"comedy-improv\",\"tv-film-tv-reviews\",\"health-fitness-sexuality\",\"news-politics\",\"leisure-home-garden\",\"leisure-animation-manga\",\"fiction-comedy-fiction\",\"christianity\",\"government\",\"sports\",\"music-music-commentary\",\"business-marketing\",\"music-music-interviews\",\"education-how-to\",\"science-social-sciences\",\"society-culture-documentary\",\"business-management\",\"news-tech-news\",\"education-self-improvement\",\"sports-wilderness\",\"health-fitness-alternative-health\",\"health-fitness-medicine\",\"business-investing\",\"science-natural-sciences\",\"science-nature\",\"tv-film-after-shows\",\"sports-soccer\",\"leisure-automotive\",\"kids-family-pets-animals\",\"judaism\",\"religion\",\"sports-football\",\"kids-family-parenting\",\"health-fitness-fitness\",\"news-entertainment-news\",\"news-daily-news\",\"kids-family-stories-for-kids\",\"tv-film-film-interviews\",\"music-music-history\",\"science-life-sciences\",\"comedy-stand-up\",\"leisure-aviation\",\"sports-golf\",\"business-non-profit\",\"islam\",\"news-sports-news\",\"sports-basketball\",\"sports-baseball\",\"sports-fantasy-sports\",\"kids-family-education-for-kids\",\"science-astronomy\",\"science-physics\",\"sports-running\",\"sports-wrestling\",\"buddhism\",\"sports-swimming\",\"sports-tennis\",\"sports-hockey\",\"sports-volleyball\",\"sports-rugby\",\"sports-cricket\",\"news-news-commentary\"],\"legendgroup\":\"\",\"marker\":{\"color\":\"#636efa\",\"symbol\":\"circle\"},\"mode\":\"markers\",\"name\":\"\",\"orientation\":\"v\",\"showlegend\":false,\"x\":[4.727781521962083,4.703887646362321,4.766756483664533,4.8113667691655175,4.813993535619458,4.546983981859082,4.822154105060704,4.759590405264981,4.7891896414675985,4.681932512331363,4.529647904992891,4.735194932865444,4.4666236142503495,4.603626711205226,4.565837410221714,4.781106547475235,4.668225172994203,4.537887212073074,4.1638572746847125,4.788055762721588,4.880982481488171,4.522414026079319,4.623423818861729,4.6497156239545,4.518006061854456,4.759043974294173,4.675124707319556,4.745690063016862,4.835223950415156,4.832466088806749,4.839409561074062,4.301109929549382,4.614394580863675,4.764462809917355,4.769980621293088,4.704959656942956,4.752083702784182,4.776599837558244,4.85644354351764,4.671958529078244,4.89006138610189,4.9083771590937415,4.524381533666645,4.721689059500959,4.744599079951086,4.552321552321552,4.476195393989466,4.205813564984965,4.823933975240715,4.810429114611624,4.834667790420003,4.823247356412365,4.43010266675276,4.612250937629831,4.823374050841862,4.937095153971388,4.799818080044781,4.800638451240861,4.420597355965399,4.313421405322612,4.867669814844459,4.409090909090909,4.876771096853628,4.7996786779894425,4.790271560728141,4.803187120092,4.681912782537148,4.4763779527559056,4.800247754722824,4.391995291347851,4.711517952364024,4.702031877357343,4.855482566953007,4.778606965174129,4.818252730109204,4.6511601963409195,4.796848574846347,4.861337554412347,4.654456654456655,3.9652029274783764,4.735020163448842,4.773748128431209,4.752938465084121,4.619645494830133,4.816260439747742,4.82992125984252,4.779472044597475,4.901167315175098,4.824821852731591,4.479803462263612,4.61247574161353,4.648123393316196,4.628656420426376,4.713295579410024,4.522222222222222,4.635775862068965,4.891992853662498,4.578386605783866,4.773038842345773,4.892307692307693,4.567986230636833,4.546756756756757,4.864077669902913,4.9880239520958085,4.7976190476190474,4.492889258950874],\"xaxis\":\"x\",\"y\":[1.9067014387435168,1.894454677016182,1.918491074435837,1.9224896617537908,1.9407206386844038,1.8777479552994745,1.9257723284048565,1.9186872185659853,1.929423084968414,1.8861594747329566,1.8603328594128963,1.9152325132838068,1.887073512000861,1.8524859077216738,1.8139897991048195,1.9267939115728436,1.8761922573405647,1.8141382049245434,1.7755828975699786,1.9346681200160634,1.9529980133646379,1.8482028241335045,1.9088123631886174,1.899297423887588,1.8712650442868493,1.9197776012708498,1.923063218975873,1.9080767556724638,1.9459322496394185,1.952984662388412,1.9514710992426731,1.83790819265364,1.8775613886536833,1.9147065056155965,1.9372247342768218,1.903910173221238,1.9235680085121476,1.9210020091480358,1.9555550763391703,1.8783411631297586,1.9583835611357356,1.9734802223274595,1.8660476592429063,1.9251439539347408,1.9459616840388982,1.875061875061875,1.8645048022307136,1.8248830604744404,1.9334250343878954,1.9255839217816404,1.935243714004776,1.953683649714504,1.8560082649964487,1.8986790659556425,1.944206008583691,1.9724271710138903,1.9377973691575707,1.9349191638348264,1.8451118002284967,1.799604314251069,1.95080305213169,1.8328909533289095,1.9642077317455584,1.9348175350011476,1.932676812891674,1.9295219319862,1.9151541551715794,1.8498031496062992,1.9327965314338804,1.8610211889346675,1.9177035193743335,1.9020562112179098,1.9494694290045478,1.954868514570007,1.937857514300572,1.8993752788933511,1.9453450480551087,1.9553620894341115,1.91937181592354,1.7389886892880906,1.8906891260126333,1.940109798702379,1.9138050241991242,1.9194977843426884,1.9628430202829386,1.9181102362204725,1.9355632070831283,1.9735408560311285,1.950712589073634,1.8656801691138662,1.9001386193512615,1.8947043701799486,1.8907017622932347,1.8803144281971094,1.8797979797979798,1.8771551724137931,1.9546857235666721,1.908675799086758,1.8994668697638994,1.9538461538461538,1.8158347676419966,1.8786486486486487,1.9029126213592233,1.9880239520958083,1.8928571428571428,1.8904912572855954],\"yaxis\":\"y\",\"type\":\"scatter\"},{\"hovertemplate\":\"<b>OLS trendline</b><br>pol_points = 0.233787 * avg_rating + 0.809908<br>R<sup>2</sup>=0.832895<br><br>Average Rating=%{x}<br>Review Polarization Points=%{y} <b>(trend)</b><extra></extra>\",\"legendgroup\":\"\",\"marker\":{\"color\":\"#636efa\",\"symbol\":\"circle\"},\"mode\":\"lines\",\"name\":\"\",\"showlegend\":false,\"x\":[3.9652029274783764,4.1638572746847125,4.205813564984965,4.301109929549382,4.313421405322612,4.391995291347851,4.409090909090909,4.420597355965399,4.43010266675276,4.4666236142503495,4.476195393989466,4.4763779527559056,4.479803462263612,4.492889258950874,4.518006061854456,4.522222222222222,4.522414026079319,4.524381533666645,4.529647904992891,4.537887212073074,4.546756756756757,4.546983981859082,4.552321552321552,4.565837410221714,4.567986230636833,4.578386605783866,4.603626711205226,4.612250937629831,4.61247574161353,4.614394580863675,4.619645494830133,4.623423818861729,4.628656420426376,4.635775862068965,4.648123393316196,4.6497156239545,4.6511601963409195,4.654456654456655,4.668225172994203,4.671958529078244,4.675124707319556,4.681912782537148,4.681932512331363,4.702031877357343,4.703887646362321,4.704959656942956,4.711517952364024,4.713295579410024,4.721689059500959,4.727781521962083,4.735020163448842,4.735194932865444,4.744599079951086,4.745690063016862,4.752083702784182,4.752938465084121,4.759043974294173,4.759590405264981,4.764462809917355,4.766756483664533,4.769980621293088,4.773038842345773,4.773748128431209,4.776599837558244,4.778606965174129,4.779472044597475,4.781106547475235,4.788055762721588,4.7891896414675985,4.790271560728141,4.796848574846347,4.7976190476190474,4.7996786779894425,4.799818080044781,4.800247754722824,4.800638451240861,4.803187120092,4.810429114611624,4.8113667691655175,4.813993535619458,4.816260439747742,4.818252730109204,4.822154105060704,4.823247356412365,4.823374050841862,4.823933975240715,4.824821852731591,4.82992125984252,4.832466088806749,4.834667790420003,4.835223950415156,4.839409561074062,4.855482566953007,4.85644354351764,4.861337554412347,4.864077669902913,4.867669814844459,4.876771096853628,4.880982481488171,4.89006138610189,4.891992853662498,4.892307692307693,4.901167315175098,4.9083771590937415,4.937095153971388,4.9880239520958085],\"xaxis\":\"x\",\"y\":[1.7369210700751578,1.7833638662914266,1.7931726999152953,1.8154517474259926,1.8183300099382331,1.836699560003001,1.840696292529611,1.8433863497817193,1.845608567508529,1.8541466888540128,1.8563844461550854,1.8564271260143812,1.857227965473676,1.8602872541196114,1.8661592351522927,1.8671449184737448,1.8671897597146936,1.8676497373352048,1.8688809462855431,1.8708071888524411,1.8728807727536658,1.8729338950199084,1.8741817493999637,1.877341580750109,1.8778439469457056,1.8802754190494833,1.8861762266031374,1.888192458293979,1.8882450145342544,1.8886936141320962,1.8899212093532571,1.8908045322480551,1.8920278462684395,1.8936922788974266,1.8965789707093783,1.8969512134722677,1.897288935661113,1.8980596045876053,1.9012785047004483,1.9021513146754239,1.902891525865934,1.9044784893452877,1.9044831019139277,1.9091820713908374,1.9096159259877024,1.9098665480840131,1.9113997920429302,1.9118153780686424,1.913777664275265,1.915202002561924,1.9168943025602874,1.916935161371153,1.9191337283435264,1.9193887859594898,1.9208835355734284,1.9210833678543107,1.9225107563007586,1.9226385047370773,1.9237776094158106,1.9243138404317677,1.9250676017713102,1.9257825739787224,1.9259483958174497,1.926615088229257,1.927084328495858,1.927286572785673,1.927668698246979,1.9292933341640282,1.9295584202307339,1.9298113588472126,1.9313489789934564,1.9315291054818817,1.9320106202079286,1.932043210590869,1.9321436629282696,1.9322350026800783,1.9328308482265806,1.9345239321203094,1.934743143529373,1.9353572472771323,1.9358872199052286,1.9363529914152018,1.93726508201067,1.9375206699222982,1.9375502894280054,1.9376811924518667,1.9378887666326166,1.9390809415263814,1.9396758893573907,1.9401906184876179,1.9403206414429763,1.9412991826408201,1.9450568418469556,1.9452815056380457,1.9464256615745226,1.9470662648491401,1.9479060615001855,1.9500338225665952,1.9510183893838882,1.95314091890701,1.9535924708391832,1.953666076009397,1.9557373403193417,1.9574229078217578,1.9641368005837272,1.9760432895485784],\"yaxis\":\"y\",\"type\":\"scatter\"},{\"hovertemplate\":\"x=%{x}<br>y=%{y}<extra></extra>\",\"legendgroup\":\"\",\"line\":{\"color\":\"grey\",\"dash\":\"dash\"},\"marker\":{\"symbol\":\"circle\"},\"mode\":\"lines\",\"name\":\"\",\"orientation\":\"v\",\"showlegend\":false,\"x\":[3.9652029274783764,3.975655423160413,3.9861079188424497,3.9965604145244864,4.007012910206523,4.01746540588856,4.027917901570596,4.038370397252633,4.04882289293467,4.0592753886167054,4.069727884298742,4.080180379980779,4.090632875662815,4.101085371344852,4.111537867026889,4.121990362708925,4.132442858390962,4.142895354072999,4.153347849755035,4.163800345437072,4.174252841119109,4.184705336801145,4.195157832483182,4.205610328165219,4.216062823847255,4.226515319529291,4.236967815211328,4.247420310893364,4.257872806575401,4.268325302257438,4.278777797939474,4.289230293621511,4.299682789303548,4.310135284985584,4.320587780667621,4.331040276349658,4.341492772031694,4.351945267713731,4.362397763395768,4.372850259077804,4.383302754759841,4.3937552504418775,4.404207746123913,4.41466024180595,4.425112737487987,4.435565233170023,4.44601772885206,4.456470224534097,4.466922720216133,4.47737521589817,4.4878277115802065,4.498280207262243,4.50873270294428,4.5191851986263165,4.529637694308353,4.54009018999039,4.5505426856724265,4.560995181354462,4.571447677036499,4.581900172718536,4.592352668400572,4.602805164082609,4.6132576597646455,4.623710155446682,4.634162651128719,4.6446151468107555,4.655067642492792,4.665520138174829,4.6759726338568655,4.686425129538902,4.696877625220939,4.707330120902975,4.717782616585012,4.728235112267049,4.738687607949085,4.749140103631122,4.759592599313158,4.7700450949951945,4.780497590677231,4.790950086359268,4.801402582041304,4.811855077723341,4.822307573405378,4.832760069087414,4.843212564769451,4.853665060451488,4.864117556133524,4.874570051815561,4.885022547497598,4.895475043179634,4.90592753886167,4.916380034543707,4.926832530225743,4.93728502590778,4.947737521589817,4.958190017271853,4.96864251295389,4.979095008635927,4.989547504317963,5.0],\"xaxis\":\"x\",\"y\":[1.7672861008864253,1.769729758091712,1.7721734152969986,1.774617072502285,1.7770607297075713,1.779504386912858,1.7819480441181446,1.7843917013234312,1.7868353585287178,1.789279015734004,1.7917226729392906,1.7941663301445772,1.7966099873498638,1.7990536445551502,1.8014973017604365,1.8039409589657232,1.8063846161710098,1.8088282733762964,1.811271930581583,1.8137155877868694,1.816159244992156,1.8186029021974424,1.821046559402729,1.8234902166080156,1.8259338738133022,1.8283775310185884,1.830821188223875,1.8332648454291616,1.8357085026344482,1.8381521598397346,1.840595817045021,1.8430394742503076,1.8454831314555942,1.8479267886608808,1.8503704458661674,1.852814103071454,1.8552577602767406,1.8577014174820268,1.8601450746873134,1.8625887318926,1.8650323890978866,1.8674760463031732,1.8699197035084594,1.872363360713746,1.8748070179190326,1.8772506751243192,1.8796943323296058,1.882137989534892,1.8845816467401786,1.8870253039454652,1.8894689611507518,1.8919126183560384,1.894356275561325,1.8967999327666112,1.8992435899718978,1.9016872471771844,1.904130904382471,1.9065745615877572,1.9090182187930438,1.9114618759983304,1.913905533203617,1.9163491904089036,1.9187928476141902,1.9212365048194764,1.923680162024763,1.9261238192300496,1.9285674764353362,1.9310111336406228,1.9334547908459094,1.9358984480511956,1.9383421052564822,1.9407857624617688,1.9432294196670554,1.945673076872342,1.9481167340776286,1.9505603912829153,1.9530040484882014,1.955447705693488,1.9578913628987746,1.9603350201040608,1.9627786773093474,1.965222334514634,1.9676659917199206,1.9701096489252072,1.9725533061304938,1.9749969633357805,1.9774406205410666,1.9798842777463532,1.9823279349516398,1.9847715921569264,1.9872152493622126,1.9896589065674992,1.9921025637727858,1.9945462209780724,1.996989878183359,1.9994335353886457,2.001877192593932,2.0043208497992184,2.006764507004505,2.0092081642097916],\"yaxis\":\"y\",\"type\":\"scatter\"},{\"hovertemplate\":\"x=%{x}<br>y=%{y}<extra></extra>\",\"legendgroup\":\"\",\"line\":{\"color\":\"grey\",\"dash\":\"dash\"},\"marker\":{\"symbol\":\"circle\"},\"mode\":\"lines\",\"name\":\"\",\"orientation\":\"v\",\"showlegend\":false,\"x\":[3.9652029274783764,3.975655423160413,3.9861079188424497,3.9965604145244864,4.007012910206523,4.01746540588856,4.027917901570596,4.038370397252633,4.04882289293467,4.0592753886167054,4.069727884298742,4.080180379980779,4.090632875662815,4.101085371344852,4.111537867026889,4.121990362708925,4.132442858390962,4.142895354072999,4.153347849755035,4.163800345437072,4.174252841119109,4.184705336801145,4.195157832483182,4.205610328165219,4.216062823847255,4.226515319529291,4.236967815211328,4.247420310893364,4.257872806575401,4.268325302257438,4.278777797939474,4.289230293621511,4.299682789303548,4.310135284985584,4.320587780667621,4.331040276349658,4.341492772031694,4.351945267713731,4.362397763395768,4.372850259077804,4.383302754759841,4.3937552504418775,4.404207746123913,4.41466024180595,4.425112737487987,4.435565233170023,4.44601772885206,4.456470224534097,4.466922720216133,4.47737521589817,4.4878277115802065,4.498280207262243,4.50873270294428,4.5191851986263165,4.529637694308353,4.54009018999039,4.5505426856724265,4.560995181354462,4.571447677036499,4.581900172718536,4.592352668400572,4.602805164082609,4.6132576597646455,4.623710155446682,4.634162651128719,4.6446151468107555,4.655067642492792,4.665520138174829,4.6759726338568655,4.686425129538902,4.696877625220939,4.707330120902975,4.717782616585012,4.728235112267049,4.738687607949085,4.749140103631122,4.759592599313158,4.7700450949951945,4.780497590677231,4.790950086359268,4.801402582041304,4.811855077723341,4.822307573405378,4.832760069087414,4.843212564769451,4.853665060451488,4.864117556133524,4.874570051815561,4.885022547497598,4.895475043179634,4.90592753886167,4.916380034543707,4.926832530225743,4.93728502590778,4.947737521589817,4.958190017271853,4.96864251295389,4.979095008635927,4.989547504317963,5.0],\"xaxis\":\"x\",\"y\":[1.7065560392638948,1.7089996964691814,1.711443353674468,1.7138870108797544,1.7163306680850408,1.7187743252903274,1.721217982495614,1.7236616397009006,1.7261052969061872,1.7285489541114734,1.73099261131676,1.7334362685220466,1.7358799257273332,1.7383235829326196,1.740767240137906,1.7432108973431926,1.7456545545484792,1.7480982117537658,1.7505418689590524,1.7529855261643388,1.7554291833696254,1.7578728405749118,1.7603164977801984,1.762760154985485,1.7652038121907716,1.7676474693960578,1.7700911266013444,1.772534783806631,1.7749784410119176,1.777422098217204,1.7798657554224904,1.782309412627777,1.7847530698330636,1.7871967270383502,1.7896403842436368,1.7920840414489234,1.79452769865421,1.7969713558594962,1.7994150130647828,1.8018586702700694,1.804302327475356,1.8067459846806426,1.8091896418859288,1.8116332990912154,1.814076956296502,1.8165206135017886,1.8189642707070752,1.8214079279123614,1.823851585117648,1.8262952423229346,1.8287388995282212,1.8311825567335078,1.8336262139387944,1.8360698711440806,1.8385135283493672,1.8409571855546538,1.8434008427599404,1.8458444999652266,1.8482881571705132,1.8507318143757998,1.8531754715810864,1.855619128786373,1.8580627859916596,1.8605064431969458,1.8629501004022324,1.865393757607519,1.8678374148128056,1.8702810720180922,1.8727247292233788,1.875168386428665,1.8776120436339516,1.8800557008392382,1.8824993580445248,1.8849430152498114,1.887386672455098,1.8898303296603847,1.8922739868656708,1.8947176440709574,1.897161301276244,1.8996049584815302,1.9020486156868168,1.9044922728921034,1.90693593009739,1.9093795873026767,1.9118232445079633,1.9142669017132499,1.916710558918536,1.9191542161238226,1.9215978733291093,1.9240415305343959,1.926485187739682,1.9289288449449686,1.9313725021502552,1.9338161593555419,1.9362598165608285,1.938703473766115,1.9411471309714012,1.9435907881766878,1.9460344453819745,1.948478102587261],\"yaxis\":\"y\",\"type\":\"scatter\"}],                        {\"template\":{\"data\":{\"histogram2dcontour\":[{\"type\":\"histogram2dcontour\",\"colorbar\":{\"outlinewidth\":0,\"ticks\":\"\"},\"colorscale\":[[0.0,\"#0d0887\"],[0.1111111111111111,\"#46039f\"],[0.2222222222222222,\"#7201a8\"],[0.3333333333333333,\"#9c179e\"],[0.4444444444444444,\"#bd3786\"],[0.5555555555555556,\"#d8576b\"],[0.6666666666666666,\"#ed7953\"],[0.7777777777777778,\"#fb9f3a\"],[0.8888888888888888,\"#fdca26\"],[1.0,\"#f0f921\"]]}],\"choropleth\":[{\"type\":\"choropleth\",\"colorbar\":{\"outlinewidth\":0,\"ticks\":\"\"}}],\"histogram2d\":[{\"type\":\"histogram2d\",\"colorbar\":{\"outlinewidth\":0,\"ticks\":\"\"},\"colorscale\":[[0.0,\"#0d0887\"],[0.1111111111111111,\"#46039f\"],[0.2222222222222222,\"#7201a8\"],[0.3333333333333333,\"#9c179e\"],[0.4444444444444444,\"#bd3786\"],[0.5555555555555556,\"#d8576b\"],[0.6666666666666666,\"#ed7953\"],[0.7777777777777778,\"#fb9f3a\"],[0.8888888888888888,\"#fdca26\"],[1.0,\"#f0f921\"]]}],\"heatmap\":[{\"type\":\"heatmap\",\"colorbar\":{\"outlinewidth\":0,\"ticks\":\"\"},\"colorscale\":[[0.0,\"#0d0887\"],[0.1111111111111111,\"#46039f\"],[0.2222222222222222,\"#7201a8\"],[0.3333333333333333,\"#9c179e\"],[0.4444444444444444,\"#bd3786\"],[0.5555555555555556,\"#d8576b\"],[0.6666666666666666,\"#ed7953\"],[0.7777777777777778,\"#fb9f3a\"],[0.8888888888888888,\"#fdca26\"],[1.0,\"#f0f921\"]]}],\"heatmapgl\":[{\"type\":\"heatmapgl\",\"colorbar\":{\"outlinewidth\":0,\"ticks\":\"\"},\"colorscale\":[[0.0,\"#0d0887\"],[0.1111111111111111,\"#46039f\"],[0.2222222222222222,\"#7201a8\"],[0.3333333333333333,\"#9c179e\"],[0.4444444444444444,\"#bd3786\"],[0.5555555555555556,\"#d8576b\"],[0.6666666666666666,\"#ed7953\"],[0.7777777777777778,\"#fb9f3a\"],[0.8888888888888888,\"#fdca26\"],[1.0,\"#f0f921\"]]}],\"contourcarpet\":[{\"type\":\"contourcarpet\",\"colorbar\":{\"outlinewidth\":0,\"ticks\":\"\"}}],\"contour\":[{\"type\":\"contour\",\"colorbar\":{\"outlinewidth\":0,\"ticks\":\"\"},\"colorscale\":[[0.0,\"#0d0887\"],[0.1111111111111111,\"#46039f\"],[0.2222222222222222,\"#7201a8\"],[0.3333333333333333,\"#9c179e\"],[0.4444444444444444,\"#bd3786\"],[0.5555555555555556,\"#d8576b\"],[0.6666666666666666,\"#ed7953\"],[0.7777777777777778,\"#fb9f3a\"],[0.8888888888888888,\"#fdca26\"],[1.0,\"#f0f921\"]]}],\"surface\":[{\"type\":\"surface\",\"colorbar\":{\"outlinewidth\":0,\"ticks\":\"\"},\"colorscale\":[[0.0,\"#0d0887\"],[0.1111111111111111,\"#46039f\"],[0.2222222222222222,\"#7201a8\"],[0.3333333333333333,\"#9c179e\"],[0.4444444444444444,\"#bd3786\"],[0.5555555555555556,\"#d8576b\"],[0.6666666666666666,\"#ed7953\"],[0.7777777777777778,\"#fb9f3a\"],[0.8888888888888888,\"#fdca26\"],[1.0,\"#f0f921\"]]}],\"mesh3d\":[{\"type\":\"mesh3d\",\"colorbar\":{\"outlinewidth\":0,\"ticks\":\"\"}}],\"scatter\":[{\"fillpattern\":{\"fillmode\":\"overlay\",\"size\":10,\"solidity\":0.2},\"type\":\"scatter\"}],\"parcoords\":[{\"type\":\"parcoords\",\"line\":{\"colorbar\":{\"outlinewidth\":0,\"ticks\":\"\"}}}],\"scatterpolargl\":[{\"type\":\"scatterpolargl\",\"marker\":{\"colorbar\":{\"outlinewidth\":0,\"ticks\":\"\"}}}],\"bar\":[{\"error_x\":{\"color\":\"#2a3f5f\"},\"error_y\":{\"color\":\"#2a3f5f\"},\"marker\":{\"line\":{\"color\":\"#E5ECF6\",\"width\":0.5},\"pattern\":{\"fillmode\":\"overlay\",\"size\":10,\"solidity\":0.2}},\"type\":\"bar\"}],\"scattergeo\":[{\"type\":\"scattergeo\",\"marker\":{\"colorbar\":{\"outlinewidth\":0,\"ticks\":\"\"}}}],\"scatterpolar\":[{\"type\":\"scatterpolar\",\"marker\":{\"colorbar\":{\"outlinewidth\":0,\"ticks\":\"\"}}}],\"histogram\":[{\"marker\":{\"pattern\":{\"fillmode\":\"overlay\",\"size\":10,\"solidity\":0.2}},\"type\":\"histogram\"}],\"scattergl\":[{\"type\":\"scattergl\",\"marker\":{\"colorbar\":{\"outlinewidth\":0,\"ticks\":\"\"}}}],\"scatter3d\":[{\"type\":\"scatter3d\",\"line\":{\"colorbar\":{\"outlinewidth\":0,\"ticks\":\"\"}},\"marker\":{\"colorbar\":{\"outlinewidth\":0,\"ticks\":\"\"}}}],\"scattermapbox\":[{\"type\":\"scattermapbox\",\"marker\":{\"colorbar\":{\"outlinewidth\":0,\"ticks\":\"\"}}}],\"scatterternary\":[{\"type\":\"scatterternary\",\"marker\":{\"colorbar\":{\"outlinewidth\":0,\"ticks\":\"\"}}}],\"scattercarpet\":[{\"type\":\"scattercarpet\",\"marker\":{\"colorbar\":{\"outlinewidth\":0,\"ticks\":\"\"}}}],\"carpet\":[{\"aaxis\":{\"endlinecolor\":\"#2a3f5f\",\"gridcolor\":\"white\",\"linecolor\":\"white\",\"minorgridcolor\":\"white\",\"startlinecolor\":\"#2a3f5f\"},\"baxis\":{\"endlinecolor\":\"#2a3f5f\",\"gridcolor\":\"white\",\"linecolor\":\"white\",\"minorgridcolor\":\"white\",\"startlinecolor\":\"#2a3f5f\"},\"type\":\"carpet\"}],\"table\":[{\"cells\":{\"fill\":{\"color\":\"#EBF0F8\"},\"line\":{\"color\":\"white\"}},\"header\":{\"fill\":{\"color\":\"#C8D4E3\"},\"line\":{\"color\":\"white\"}},\"type\":\"table\"}],\"barpolar\":[{\"marker\":{\"line\":{\"color\":\"#E5ECF6\",\"width\":0.5},\"pattern\":{\"fillmode\":\"overlay\",\"size\":10,\"solidity\":0.2}},\"type\":\"barpolar\"}],\"pie\":[{\"automargin\":true,\"type\":\"pie\"}]},\"layout\":{\"autotypenumbers\":\"strict\",\"colorway\":[\"#636efa\",\"#EF553B\",\"#00cc96\",\"#ab63fa\",\"#FFA15A\",\"#19d3f3\",\"#FF6692\",\"#B6E880\",\"#FF97FF\",\"#FECB52\"],\"font\":{\"color\":\"#2a3f5f\"},\"hovermode\":\"closest\",\"hoverlabel\":{\"align\":\"left\"},\"paper_bgcolor\":\"white\",\"plot_bgcolor\":\"#E5ECF6\",\"polar\":{\"bgcolor\":\"#E5ECF6\",\"angularaxis\":{\"gridcolor\":\"white\",\"linecolor\":\"white\",\"ticks\":\"\"},\"radialaxis\":{\"gridcolor\":\"white\",\"linecolor\":\"white\",\"ticks\":\"\"}},\"ternary\":{\"bgcolor\":\"#E5ECF6\",\"aaxis\":{\"gridcolor\":\"white\",\"linecolor\":\"white\",\"ticks\":\"\"},\"baxis\":{\"gridcolor\":\"white\",\"linecolor\":\"white\",\"ticks\":\"\"},\"caxis\":{\"gridcolor\":\"white\",\"linecolor\":\"white\",\"ticks\":\"\"}},\"coloraxis\":{\"colorbar\":{\"outlinewidth\":0,\"ticks\":\"\"}},\"colorscale\":{\"sequential\":[[0.0,\"#0d0887\"],[0.1111111111111111,\"#46039f\"],[0.2222222222222222,\"#7201a8\"],[0.3333333333333333,\"#9c179e\"],[0.4444444444444444,\"#bd3786\"],[0.5555555555555556,\"#d8576b\"],[0.6666666666666666,\"#ed7953\"],[0.7777777777777778,\"#fb9f3a\"],[0.8888888888888888,\"#fdca26\"],[1.0,\"#f0f921\"]],\"sequentialminus\":[[0.0,\"#0d0887\"],[0.1111111111111111,\"#46039f\"],[0.2222222222222222,\"#7201a8\"],[0.3333333333333333,\"#9c179e\"],[0.4444444444444444,\"#bd3786\"],[0.5555555555555556,\"#d8576b\"],[0.6666666666666666,\"#ed7953\"],[0.7777777777777778,\"#fb9f3a\"],[0.8888888888888888,\"#fdca26\"],[1.0,\"#f0f921\"]],\"diverging\":[[0,\"#8e0152\"],[0.1,\"#c51b7d\"],[0.2,\"#de77ae\"],[0.3,\"#f1b6da\"],[0.4,\"#fde0ef\"],[0.5,\"#f7f7f7\"],[0.6,\"#e6f5d0\"],[0.7,\"#b8e186\"],[0.8,\"#7fbc41\"],[0.9,\"#4d9221\"],[1,\"#276419\"]]},\"xaxis\":{\"gridcolor\":\"white\",\"linecolor\":\"white\",\"ticks\":\"\",\"title\":{\"standoff\":15},\"zerolinecolor\":\"white\",\"automargin\":true,\"zerolinewidth\":2},\"yaxis\":{\"gridcolor\":\"white\",\"linecolor\":\"white\",\"ticks\":\"\",\"title\":{\"standoff\":15},\"zerolinecolor\":\"white\",\"automargin\":true,\"zerolinewidth\":2},\"scene\":{\"xaxis\":{\"backgroundcolor\":\"#E5ECF6\",\"gridcolor\":\"white\",\"linecolor\":\"white\",\"showbackground\":true,\"ticks\":\"\",\"zerolinecolor\":\"white\",\"gridwidth\":2},\"yaxis\":{\"backgroundcolor\":\"#E5ECF6\",\"gridcolor\":\"white\",\"linecolor\":\"white\",\"showbackground\":true,\"ticks\":\"\",\"zerolinecolor\":\"white\",\"gridwidth\":2},\"zaxis\":{\"backgroundcolor\":\"#E5ECF6\",\"gridcolor\":\"white\",\"linecolor\":\"white\",\"showbackground\":true,\"ticks\":\"\",\"zerolinecolor\":\"white\",\"gridwidth\":2}},\"shapedefaults\":{\"line\":{\"color\":\"#2a3f5f\"}},\"annotationdefaults\":{\"arrowcolor\":\"#2a3f5f\",\"arrowhead\":0,\"arrowwidth\":1},\"geo\":{\"bgcolor\":\"white\",\"landcolor\":\"#E5ECF6\",\"subunitcolor\":\"white\",\"showland\":true,\"showlakes\":true,\"lakecolor\":\"white\"},\"title\":{\"x\":0.05},\"mapbox\":{\"style\":\"light\"}}},\"xaxis\":{\"anchor\":\"y\",\"domain\":[0.0,1.0],\"title\":{\"text\":\"Average Rating\"}},\"yaxis\":{\"anchor\":\"x\",\"domain\":[0.0,1.0],\"title\":{\"text\":\"Review Polarization Points\"}},\"legend\":{\"tracegroupgap\":0},\"margin\":{\"t\":25,\"l\":65,\"r\":10,\"b\":30},\"height\":511.1949685534591,\"width\":817.9119496855345},                        {\"responsive\": true}                    ).then(function(){\n",
       "                            \n",
       "var gd = document.getElementById('3e1593d2-e867-464d-8fea-220132304fd5');\n",
       "var x = new MutationObserver(function (mutations, observer) {{\n",
       "        var display = window.getComputedStyle(gd).display;\n",
       "        if (!display || display === 'none') {{\n",
       "            console.log([gd, 'removed!']);\n",
       "            Plotly.purge(gd);\n",
       "            observer.disconnect();\n",
       "        }}\n",
       "}});\n",
       "\n",
       "// Listen for the removal of the full notebook cells\n",
       "var notebookContainer = gd.closest('#notebook-container');\n",
       "if (notebookContainer) {{\n",
       "    x.observe(notebookContainer, {childList: true});\n",
       "}}\n",
       "\n",
       "// Listen for the clearing of the current output cell\n",
       "var outputEl = gd.closest('.output');\n",
       "if (outputEl) {{\n",
       "    x.observe(outputEl, {childList: true});\n",
       "}}\n",
       "\n",
       "                        })                };                });            </script>        </div>"
      ]
     },
     "metadata": {},
     "output_type": "display_data"
    }
   ],
   "source": [
    "# | label: fig-topics-scatter\n",
    "# | fig-cap: A scatter plot of category polarization point over the average rating of podcasts tagged in that category. The blue trend line is a linear fit, the grey dashed lines signify the 90% confidence margin of error of point distance from the model.\n",
    "\n",
    "pol_pos_line = px.line(x=line_er_x, y=positive_line_er_y).data[0]\n",
    "pol_pos_line.update(line=dict(color=\"grey\", dash=\"dash\"))\n",
    "\n",
    "pol_neg_line = px.line(x=line_er_x, y=negative_line_er_y).data[0]\n",
    "pol_neg_line.update(line=dict(color=\"grey\", dash=\"dash\"))\n",
    "\n",
    "fig_topics_scatter.add_trace(pol_pos_line)\n",
    "fig_topics_scatter.add_trace(pol_neg_line)\n",
    "\n",
    "default_plotly_margins(fig_topics_scatter)\n",
    "\n",
    "fig_topics_scatter.show()"
   ]
  },
  {
   "attachments": {},
   "cell_type": "markdown",
   "metadata": {},
   "source": [
    "##### Calculating distance from the linear fit:"
   ]
  },
  {
   "cell_type": "code",
   "execution_count": 68,
   "metadata": {},
   "outputs": [],
   "source": [
    "topic_stats[\"residuals\"] = topic_stats[\"pol_points\"] - np.poly1d(line_fit)(\n",
    "    topic_stats[\"avg_rating\"]\n",
    ")\n"
   ]
  },
  {
   "attachments": {},
   "cell_type": "markdown",
   "metadata": {},
   "source": [
    "::: {#tbl-pol}\n",
    "<iframe width=\"800\" height=\"600\" src=\"https://lookerstudio.google.com/embed/reporting/7e9a42b5-f87e-4f60-9692-75d1838c4b48/page/DuBTD\" frameborder=\"0\" style=\"border:0\" allowfullscreen></iframe>\n",
    "Topic polarization results from @fig-topics-scatter. The topics are grouped into Polarizing, Non-Polarizing, and Neutral based on whether they are above or below the linear fit by 1 standard deviation of residuals.\n",
    ":::"
   ]
  },
  {
   "attachments": {},
   "cell_type": "markdown",
   "metadata": {},
   "source": [
    "#### Does the average comment length correlate with topic polarization or average rating?"
   ]
  },
  {
   "attachments": {},
   "cell_type": "markdown",
   "metadata": {},
   "source": [
    "##### Preparing the data for Looker Studio:"
   ]
  },
  {
   "cell_type": "code",
   "execution_count": 69,
   "metadata": {},
   "outputs": [],
   "source": [
    "topic_comments = {}\n",
    "for topic in topics_arr[\"category\"]:\n",
    "    topic_comments[topic] = con.execute(\n",
    "        f\"\"\"--sql\n",
    "\n",
    "  SELECT AVG(LEN(content))\n",
    "  FROM database.reviews\n",
    "  WHERE podcast_id IN (\n",
    "    SELECT DISTINCT podcast_id\n",
    "    FROM database.categories\n",
    "    WHERE category = '{topic}'\n",
    "  )\n",
    "            \"\"\"\n",
    "    ).fetchone()\n",
    "\n",
    "topic_comments = pd.Series(topic_comments, name=\"comment_length\")\n",
    "topic_stats = pd.concat([topic_stats, topic_comments], axis=1)\n",
    "topic_stats[\"comment_length\"] = topic_stats[\"comment_length\"].apply(\n",
    "    lambda x: float(x[0])\n",
    ")\n",
    "\n",
    "topic_stats.index.name = \"topic\"\n",
    "topic_stats[\"residuals\"] = topic_stats[\"residuals\"].astype(float)\n",
    "topic_stats.to_csv(\"topic_stats.csv\")"
   ]
  },
  {
   "attachments": {},
   "cell_type": "markdown",
   "metadata": {},
   "source": [
    "::: {#fig-comment_l}\n",
    "<iframe width=\"800\" height=\"450\" src=\"https://lookerstudio.google.com/embed/reporting/25930b5f-84e2-4c6c-9e38-3bebe45fd2a0/page/DuBTD\" frameborder=\"0\" style=\"border:0\" allowfullscreen></iframe>\n",
    "The dependance of average comment length on the average rating of reviews of podcasts by specific topic. The Topics are categorized in accordance to @fig-topics-scatter by one standard deviation from the fit.\n",
    ":::"
   ]
  },
  {
   "attachments": {},
   "cell_type": "markdown",
   "metadata": {},
   "source": [
    "There seems to be a possible tendency for more polarizing topics to have longer reviews if the average is lower."
   ]
  },
  {
   "attachments": {},
   "cell_type": "markdown",
   "metadata": {},
   "source": [
    "##### Section summary\n",
    "The data presented in @fig-topics-scatter supports the notion that the most polarizing topics include news-politics and news-commentary and relationships. These topics are often associated with a higher likelihood of polarization due to the diverse opinions and perspectives they encompass. On the other hand, the least polarizing topics, such as different sports shows and fiction, align with our observational intuition as they generally evoke less controversy and strong opinions."
   ]
  },
  {
   "attachments": {},
   "cell_type": "markdown",
   "metadata": {},
   "source": [
    "## Conclusions\n"
   ]
  },
  {
   "attachments": {},
   "cell_type": "markdown",
   "metadata": {},
   "source": [
    "The following insights were found in this analysis:\n",
    "\n",
    "* There is a clear tendency for some people to continuously write bad reviews with 2.02% to 2.31% of all users that wrote between 5 and 10 reviews consistently writing only negative reviews with ratings of \"1\" or \"2\".\n",
    "* Some topics are more polarizing than others and their ratings consist of more extreme values. The most polarizing topics were news politics and commentary, relationships and life sciences.\n",
    "\n",
    "These insights provide evidence that the ratings are influenced by reviewer biases rather than solely reflecting the quality of the podcasts. The presence of biased negative reviews could potentially result in lower rankings for new and upcoming podcasts in an unadjusted suggestion algorithm, creating a negative cycle for emerging creators. Therefore, when designing such an algorithm, it is crucial to consider weighting potentially biased reviews appropriately to mitigate these effects and ensure fair recommendations for all podcasts."
   ]
  },
  {
   "attachments": {},
   "cell_type": "markdown",
   "metadata": {},
   "source": []
  }
 ],
 "metadata": {
  "kernelspec": {
   "display_name": "base",
   "language": "python",
   "name": "python3"
  },
  "language_info": {
   "codemirror_mode": {
    "name": "ipython",
    "version": 3
   },
   "file_extension": ".py",
   "mimetype": "text/x-python",
   "name": "python",
   "nbconvert_exporter": "python",
   "pygments_lexer": "ipython3",
   "version": "3.9.13"
  },
  "orig_nbformat": 4
 },
 "nbformat": 4,
 "nbformat_minor": 2
}
